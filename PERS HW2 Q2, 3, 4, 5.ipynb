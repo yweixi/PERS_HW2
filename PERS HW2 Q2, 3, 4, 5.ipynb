{
 "cells": [
  {
   "cell_type": "code",
   "execution_count": 355,
   "metadata": {},
   "outputs": [],
   "source": [
    "import os\n",
    "import time\n",
    "import sklearn\n",
    "import numpy as np\n",
    "import pandas as pd\n",
    "import surprise\n",
    "import seaborn as sns\n",
    "import matplotlib.pyplot as plt\n",
    "\n",
    "from math import sqrt\n",
    "from scipy import stats\n",
    "from surprise import NMF\n",
    "from surprise import Reader\n",
    "from surprise import Dataset\n",
    "from surprise import KNNWithMeans\n",
    "from collections import defaultdict\n",
    "from surprise.model_selection import GridSearchCV\n",
    "from surprise.model_selection import cross_validate\n",
    "from surprise.model_selection import train_test_split\n",
    "%matplotlib inline"
   ]
  },
  {
   "cell_type": "code",
   "execution_count": 276,
   "metadata": {},
   "outputs": [
    {
     "name": "stdout",
     "output_type": "stream",
     "text": [
      "number of distinct participated users:  283228\n",
      "number of distinct rated movies:  53889\n"
     ]
    }
   ],
   "source": [
    "# load the data set for full ratings\n",
    "ratings = pd.read_csv('/Users/weixiyao/desktop/PERS_HW2/ml-latest/ratings.csv', \n",
    "                      usecols=['userId', 'movieId', 'rating'],\n",
    "                      dtype={'user|Id':'int32', 'movieId':'int32', 'rating':'float128'},\n",
    "                      sep=',')\n",
    "\n",
    "print(\"number of distinct participated users: \", ratings['userId'].nunique())\n",
    "print(\"number of distinct rated movies: \", ratings['movieId'].nunique())"
   ]
  },
  {
   "cell_type": "markdown",
   "metadata": {},
   "source": [
    "**Create a subset of dataset, save it for performance measurement**"
   ]
  },
  {
   "cell_type": "code",
   "execution_count": 277,
   "metadata": {},
   "outputs": [
    {
     "name": "stdout",
     "output_type": "stream",
     "text": [
      "number of distinct participated users (full):  24511\n",
      "number of distinct rated movies (full):  1000\n"
     ]
    }
   ],
   "source": [
    "ratings_full = sample_dateset_by_percentile(ratings, 25000, 1000)\n",
    "print(\"number of distinct participated users (full): \", ratings_full['userId'].nunique())\n",
    "print(\"number of distinct rated movies (full): \", ratings_full['movieId'].nunique())"
   ]
  },
  {
   "cell_type": "code",
   "execution_count": 278,
   "metadata": {},
   "outputs": [],
   "source": [
    "reader = Reader()\n",
    "data_full = Dataset.load_from_df(ratings_full[['userId', \n",
    "                                               'movieId', \n",
    "                                               'rating']], \n",
    "                                 reader=reader)"
   ]
  },
  {
   "cell_type": "markdown",
   "metadata": {},
   "source": [
    "**Create a subset of dataset, save it for development**"
   ]
  },
  {
   "cell_type": "code",
   "execution_count": 279,
   "metadata": {},
   "outputs": [
    {
     "name": "stdout",
     "output_type": "stream",
     "text": [
      "number of distinct participated users (subset):  1487\n",
      "number of distinct rated movies (subset):  200\n"
     ]
    }
   ],
   "source": [
    "ratings_sub = sample_dateset_by_percentile(ratings_full, 1500, 200)\n",
    "print(\"number of distinct participated users (subset): \", ratings_sub['userId'].nunique())\n",
    "print(\"number of distinct rated movies (subset): \", ratings_sub['movieId'].nunique())"
   ]
  },
  {
   "cell_type": "code",
   "execution_count": 280,
   "metadata": {},
   "outputs": [],
   "source": [
    "reader = Reader()\n",
    "data_sub = Dataset.load_from_df(ratings_sub[['userId', \n",
    "                                             'movieId', \n",
    "                                             'rating']], \n",
    "                                reader=reader)"
   ]
  },
  {
   "cell_type": "markdown",
   "metadata": {},
   "source": [
    "## Part 2: Two models building"
   ]
  },
  {
   "cell_type": "markdown",
   "metadata": {},
   "source": [
    "### Part 2.1: Item-based neighborhood method"
   ]
  },
  {
   "cell_type": "code",
   "execution_count": 461,
   "metadata": {},
   "outputs": [],
   "source": [
    "trainvalset, testset = train_test_split(data_sub, test_size=0.2)"
   ]
  },
  {
   "cell_type": "code",
   "execution_count": 282,
   "metadata": {},
   "outputs": [],
   "source": [
    "item_model = KNNWithMeans(k=4, sim_options={'name': 'pearson', \n",
    "                                            'user_based': False, \n",
    "                                            'verbose' : False})"
   ]
  },
  {
   "cell_type": "code",
   "execution_count": 284,
   "metadata": {},
   "outputs": [
    {
     "name": "stdout",
     "output_type": "stream",
     "text": [
      "Computing the pearson similarity matrix...\n",
      "Done computing similarity matrix.\n"
     ]
    }
   ],
   "source": [
    "item_model.fit(trainvalset);"
   ]
  },
  {
   "cell_type": "code",
   "execution_count": 285,
   "metadata": {},
   "outputs": [
    {
     "name": "stdout",
     "output_type": "stream",
     "text": [
      "Prediction for rating:  user: 699        item: 296        r_ui = None   est = 3.49   {'was_impossible': False}\n"
     ]
    }
   ],
   "source": [
    "uid = str(699)\n",
    "iid = str(296)\n",
    "item_model_pred = item_model.predict(uid, \n",
    "                                     iid, \n",
    "                                     verbose=False)\n",
    "print(\"Prediction for rating: \", pred)"
   ]
  },
  {
   "cell_type": "markdown",
   "metadata": {},
   "source": [
    "### Part 2.2: Matrix Factorization"
   ]
  },
  {
   "cell_type": "code",
   "execution_count": 286,
   "metadata": {},
   "outputs": [],
   "source": [
    "NMF_model = NMF(n_factors=20, \n",
    "                n_epochs=10, \n",
    "                biased=True)"
   ]
  },
  {
   "cell_type": "code",
   "execution_count": 287,
   "metadata": {},
   "outputs": [],
   "source": [
    "NMF_model.fit(trainvalset);"
   ]
  },
  {
   "cell_type": "code",
   "execution_count": 288,
   "metadata": {},
   "outputs": [
    {
     "name": "stdout",
     "output_type": "stream",
     "text": [
      "Prediction for rating:  user: 699        item: 296        r_ui = None   est = 3.50   {'was_impossible': False}\n"
     ]
    }
   ],
   "source": [
    "uid = str(699)\n",
    "iid = str(296)\n",
    "pred = NMF_model.predict(uid, \n",
    "                         iid,\n",
    "                         verbose=False)\n",
    "print(\"Prediction for rating: \", pred)"
   ]
  },
  {
   "cell_type": "markdown",
   "metadata": {},
   "source": [
    "## Part 3: Model evaluation"
   ]
  },
  {
   "cell_type": "markdown",
   "metadata": {},
   "source": [
    "### Part 3.1.1: CV setup for item-based neighborhood method"
   ]
  },
  {
   "cell_type": "markdown",
   "metadata": {},
   "source": [
    "For this task, we will use MSE(Mean Squared Error) as the primary accuracy metric and MAE(Mean Absolute Error) as the secondary accuracy metric."
   ]
  },
  {
   "cell_type": "code",
   "execution_count": 289,
   "metadata": {},
   "outputs": [
    {
     "name": "stdout",
     "output_type": "stream",
     "text": [
      "Computing the pearson similarity matrix...\n",
      "Done computing similarity matrix.\n",
      "Computing the pearson similarity matrix...\n",
      "Done computing similarity matrix.\n",
      "Computing the pearson similarity matrix...\n",
      "Done computing similarity matrix.\n",
      "Computing the pearson similarity matrix...\n",
      "Done computing similarity matrix.\n",
      "Computing the pearson similarity matrix...\n",
      "Done computing similarity matrix.\n",
      "Evaluating RMSE, MAE of algorithm KNNWithMeans on 5 split(s).\n",
      "\n",
      "                  Fold 1  Fold 2  Fold 3  Fold 4  Fold 5  Mean    Std     \n",
      "RMSE (testset)    0.9524  0.9478  0.9564  0.9531  0.9501  0.9520  0.0029  \n",
      "MAE (testset)     0.7190  0.7164  0.7209  0.7184  0.7188  0.7187  0.0014  \n",
      "RMSE (trainset)   0.4187  0.4174  0.4191  0.4186  0.4186  0.4185  0.0006  \n",
      "MAE (trainset)    0.3129  0.3121  0.3133  0.3129  0.3129  0.3128  0.0004  \n",
      "Fit time          0.71    0.83    0.92    0.91    0.84    0.84    0.08    \n",
      "Test time         1.90    2.36    2.28    2.00    2.08    2.12    0.17    \n"
     ]
    }
   ],
   "source": [
    "# Run 5-fold cross-validation and print results\n",
    "result = cross_validate(item_model, \n",
    "                        data_full, \n",
    "                        measures=['RMSE', 'MAE'], \n",
    "                        cv=5, \n",
    "                        return_train_measures=True,\n",
    "                        verbose=True)"
   ]
  },
  {
   "cell_type": "markdown",
   "metadata": {},
   "source": [
    "### Part 3.1.2: coverage"
   ]
  },
  {
   "cell_type": "code",
   "execution_count": 553,
   "metadata": {},
   "outputs": [],
   "source": [
    "def get_top_n(predictions, n=10):\n",
    "    \"\"\"Return the top-N recommendation for each user from a set of predictions.\n",
    "\n",
    "    Args:\n",
    "        predictions(list of Prediction objects): The list of predictions, as\n",
    "            returned by the test method of an algorithm.\n",
    "        n(int): The number of recommendation to output for each user. Default\n",
    "            is 10.\n",
    "\n",
    "    Returns:\n",
    "    A dict where keys are user (raw) ids and values are lists of tuples:\n",
    "        [(raw item id, rating estimation), ...] of size n.\n",
    "    \"\"\"\n",
    "\n",
    "    # First map the predictions to each user.\n",
    "    top_n = defaultdict(list)\n",
    "    for uid, iid, true_r, est, _ in predictions:\n",
    "        top_n[uid].append((iid, est))\n",
    "\n",
    "    # Then sort the predictions for each user and retrieve the k highest ones.\n",
    "    for uid, user_ratings in top_n.items():\n",
    "        user_ratings.sort(key=lambda x: x[1], reverse=True)\n",
    "        top_n[uid] = user_ratings[:n]\n",
    "\n",
    "    return top_n"
   ]
  },
  {
   "cell_type": "code",
   "execution_count": 554,
   "metadata": {},
   "outputs": [],
   "source": [
    "user_list_train = set(trainvalset.all_users())\n",
    "user_list_test = set([item[0] for item in testset])\n",
    "\n",
    "item_list_train = set(trainvalset.all_items())\n",
    "item_list_test = set([item[1] for item in testset])"
   ]
  },
  {
   "cell_type": "code",
   "execution_count": 555,
   "metadata": {},
   "outputs": [],
   "source": [
    "trainvalset, testset = train_test_split(data_sub, test_size=0.2)\n",
    "trainvalset_testfy = trainvalset.build_anti_testset()"
   ]
  },
  {
   "cell_type": "code",
   "execution_count": 556,
   "metadata": {},
   "outputs": [],
   "source": [
    "predictions_train = item_model.test(trainvalset_testfy)\n",
    "predictions_test = item_model.test(testset)"
   ]
  },
  {
   "cell_type": "code",
   "execution_count": 557,
   "metadata": {},
   "outputs": [],
   "source": [
    "top_n_train = get_top_n(predictions_train, n=2)\n",
    "top_n_test = get_top_n(predictions_test, n=2)"
   ]
  },
  {
   "cell_type": "code",
   "execution_count": 558,
   "metadata": {},
   "outputs": [],
   "source": [
    "recommendation_train = []\n",
    "# Print the recommended items for each user\n",
    "for uid, user_ratings in top_n_train.items():\n",
    "    recommendation_train.append([iid for (iid, _) in user_ratings])"
   ]
  },
  {
   "cell_type": "code",
   "execution_count": 559,
   "metadata": {},
   "outputs": [],
   "source": [
    "recommendation_train_list = []\n",
    "for rec_list in recommendation_train:\n",
    "    for item in rec_list:\n",
    "        recommendation_train_list.append(item)\n",
    "recommendation_train_list = set(recommendation_train_list)"
   ]
  },
  {
   "cell_type": "code",
   "execution_count": 560,
   "metadata": {},
   "outputs": [
    {
     "data": {
      "text/plain": [
       "84"
      ]
     },
     "execution_count": 560,
     "metadata": {},
     "output_type": "execute_result"
    }
   ],
   "source": [
    "len(recommendation_train_list)"
   ]
  },
  {
   "cell_type": "code",
   "execution_count": 561,
   "metadata": {},
   "outputs": [
    {
     "name": "stdout",
     "output_type": "stream",
     "text": [
      "coverage on train set 0.420000\n"
     ]
    }
   ],
   "source": [
    "print('coverage on train set', '{:f}'.format(len(recommendation_train_list)/len(item_list_train)))"
   ]
  },
  {
   "cell_type": "code",
   "execution_count": 562,
   "metadata": {},
   "outputs": [],
   "source": [
    "recommendation_test = []\n",
    "# Print the recommended items for each user\n",
    "for uid, user_ratings in top_n_test.items():\n",
    "    recommendation_test.append([iid for (iid, _) in user_ratings])"
   ]
  },
  {
   "cell_type": "code",
   "execution_count": 563,
   "metadata": {},
   "outputs": [],
   "source": [
    "recommendation_test_list = []\n",
    "for rec_list in recommendation_test:\n",
    "    for item in rec_list:\n",
    "        recommendation_test_list.append(item)\n",
    "recommendation_test_list = set(recommendation_test_list)"
   ]
  },
  {
   "cell_type": "code",
   "execution_count": 564,
   "metadata": {},
   "outputs": [
    {
     "data": {
      "text/plain": [
       "139"
      ]
     },
     "execution_count": 564,
     "metadata": {},
     "output_type": "execute_result"
    }
   ],
   "source": [
    "len(recommendation_test_list)"
   ]
  },
  {
   "cell_type": "code",
   "execution_count": 565,
   "metadata": {},
   "outputs": [
    {
     "name": "stdout",
     "output_type": "stream",
     "text": [
      "coverage on test set 0.776536\n"
     ]
    }
   ],
   "source": [
    "print('coverage on test set', '{:f}'.format(len(recommendation_test_list)/len(item_list_test)))"
   ]
  },
  {
   "cell_type": "markdown",
   "metadata": {},
   "source": [
    "### Part 3.1: CV setup for Matrix Factorization"
   ]
  },
  {
   "cell_type": "code",
   "execution_count": 148,
   "metadata": {},
   "outputs": [
    {
     "name": "stdout",
     "output_type": "stream",
     "text": [
      "Evaluating RMSE, MAE of algorithm NMF on 5 split(s).\n",
      "\n",
      "                  Fold 1  Fold 2  Fold 3  Fold 4  Fold 5  Mean    Std     \n",
      "RMSE (testset)    1.4618  1.4140  1.2466  1.9443  1.4466  1.5027  0.2338  \n",
      "MAE (testset)     1.1307  1.0972  0.9441  1.5879  1.1256  1.1771  0.2164  \n",
      "RMSE (trainset)   1.4591  1.3982  1.2267  1.9401  1.4306  1.4909  0.2387  \n",
      "MAE (trainset)    1.1242  1.0791  0.9263  1.5816  1.1040  1.1630  0.2206  \n",
      "Fit time          4.43    4.32    4.53    4.64    4.22    4.43    0.15    \n",
      "Test time         0.60    0.44    0.65    0.64    0.45    0.56    0.09    \n"
     ]
    }
   ],
   "source": [
    "# Run 5-fold cross-validation and print results\n",
    "result = cross_validate(NMF_model, \n",
    "                        data_full, \n",
    "                        measures=['RMSE', 'MAE'], \n",
    "                        cv=5, \n",
    "                        return_train_measures=True,\n",
    "                        verbose=True)"
   ]
  },
  {
   "cell_type": "markdown",
   "metadata": {},
   "source": [
    "### Part 3.2.2: coverage"
   ]
  },
  {
   "cell_type": "code",
   "execution_count": 566,
   "metadata": {},
   "outputs": [],
   "source": [
    "predictions_train = NMF_model.test(trainvalset_testfy)\n",
    "predictions_test = NMF_model.test(testset)"
   ]
  },
  {
   "cell_type": "code",
   "execution_count": 567,
   "metadata": {},
   "outputs": [],
   "source": [
    "top_n_train = get_top_n(predictions_train, n=2)\n",
    "top_n_test = get_top_n(predictions_test, n=2)"
   ]
  },
  {
   "cell_type": "code",
   "execution_count": 568,
   "metadata": {},
   "outputs": [],
   "source": [
    "recommendation_train = []\n",
    "# Print the recommended items for each user\n",
    "for uid, user_ratings in top_n_train.items():\n",
    "    recommendation_train.append([iid for (iid, _) in user_ratings])"
   ]
  },
  {
   "cell_type": "code",
   "execution_count": 569,
   "metadata": {},
   "outputs": [],
   "source": [
    "recommendation_train_list = []\n",
    "for rec_list in recommendation_train:\n",
    "    for item in rec_list:\n",
    "        recommendation_train_list.append(item)\n",
    "recommendation_train_list = set(recommendation_train_list)"
   ]
  },
  {
   "cell_type": "code",
   "execution_count": 570,
   "metadata": {},
   "outputs": [
    {
     "data": {
      "text/plain": [
       "30"
      ]
     },
     "execution_count": 570,
     "metadata": {},
     "output_type": "execute_result"
    }
   ],
   "source": [
    "len(recommendation_train_list)"
   ]
  },
  {
   "cell_type": "code",
   "execution_count": 571,
   "metadata": {},
   "outputs": [
    {
     "name": "stdout",
     "output_type": "stream",
     "text": [
      "coverage on train set 0.150000\n"
     ]
    }
   ],
   "source": [
    "print('coverage on train set', '{:f}'.format(len(recommendation_train_list)/len(item_list_train)))"
   ]
  },
  {
   "cell_type": "code",
   "execution_count": 572,
   "metadata": {},
   "outputs": [],
   "source": [
    "recommendation_test = []\n",
    "# Print the recommended items for each user\n",
    "for uid, user_ratings in top_n_test.items():\n",
    "    recommendation_test.append([iid for (iid, _) in user_ratings])"
   ]
  },
  {
   "cell_type": "code",
   "execution_count": 573,
   "metadata": {},
   "outputs": [],
   "source": [
    "recommendation_test_list = []\n",
    "for rec_list in recommendation_test:\n",
    "    for item in rec_list:\n",
    "        recommendation_test_list.append(item)\n",
    "recommendation_test_list = set(recommendation_test_list)"
   ]
  },
  {
   "cell_type": "code",
   "execution_count": 574,
   "metadata": {},
   "outputs": [
    {
     "data": {
      "text/plain": [
       "144"
      ]
     },
     "execution_count": 574,
     "metadata": {},
     "output_type": "execute_result"
    }
   ],
   "source": [
    "len(recommendation_test_list)"
   ]
  },
  {
   "cell_type": "code",
   "execution_count": 575,
   "metadata": {},
   "outputs": [
    {
     "name": "stdout",
     "output_type": "stream",
     "text": [
      "coverage on test set 0.804469\n"
     ]
    }
   ],
   "source": [
    "print('coverage on test set', '{:f}'.format(len(recommendation_test_list)/len(item_list_test)))"
   ]
  },
  {
   "cell_type": "markdown",
   "metadata": {},
   "source": [
    "## Part 4: GridSearch"
   ]
  },
  {
   "cell_type": "markdown",
   "metadata": {},
   "source": [
    "### Part 4.1: GS setup for item-based neighborhood method"
   ]
  },
  {
   "cell_type": "code",
   "execution_count": 432,
   "metadata": {},
   "outputs": [],
   "source": [
    "param_grid = {'k': [1, 2, 3, 4, 5, 6, 7, 8, 9, 10]}"
   ]
  },
  {
   "cell_type": "code",
   "execution_count": 444,
   "metadata": {},
   "outputs": [],
   "source": [
    "gs = GridSearchCV(KNNWithMeans, \n",
    "                  param_grid, \n",
    "                  measures=['RMSE', 'MAE'], \n",
    "                  cv=5)"
   ]
  },
  {
   "cell_type": "code",
   "execution_count": 434,
   "metadata": {},
   "outputs": [
    {
     "name": "stdout",
     "output_type": "stream",
     "text": [
      "Computing the msd similarity matrix...\n",
      "Done computing similarity matrix.\n",
      "Computing the msd similarity matrix...\n",
      "Done computing similarity matrix.\n",
      "Computing the msd similarity matrix...\n",
      "Done computing similarity matrix.\n",
      "Computing the msd similarity matrix...\n",
      "Done computing similarity matrix.\n",
      "Computing the msd similarity matrix...\n",
      "Done computing similarity matrix.\n",
      "Computing the msd similarity matrix...\n",
      "Done computing similarity matrix.\n",
      "Computing the msd similarity matrix...\n",
      "Done computing similarity matrix.\n",
      "Computing the msd similarity matrix...\n",
      "Done computing similarity matrix.\n",
      "Computing the msd similarity matrix...\n",
      "Done computing similarity matrix.\n",
      "Computing the msd similarity matrix...\n",
      "Done computing similarity matrix.\n",
      "Computing the msd similarity matrix...\n",
      "Done computing similarity matrix.\n",
      "Computing the msd similarity matrix...\n",
      "Done computing similarity matrix.\n",
      "Computing the msd similarity matrix...\n",
      "Done computing similarity matrix.\n",
      "Computing the msd similarity matrix...\n",
      "Done computing similarity matrix.\n",
      "Computing the msd similarity matrix...\n",
      "Done computing similarity matrix.\n",
      "Computing the msd similarity matrix...\n",
      "Done computing similarity matrix.\n",
      "Computing the msd similarity matrix...\n",
      "Done computing similarity matrix.\n",
      "Computing the msd similarity matrix...\n",
      "Done computing similarity matrix.\n",
      "Computing the msd similarity matrix...\n",
      "Done computing similarity matrix.\n",
      "Computing the msd similarity matrix...\n",
      "Done computing similarity matrix.\n",
      "Computing the msd similarity matrix...\n",
      "Done computing similarity matrix.\n",
      "Computing the msd similarity matrix...\n",
      "Done computing similarity matrix.\n",
      "Computing the msd similarity matrix...\n",
      "Done computing similarity matrix.\n",
      "Computing the msd similarity matrix...\n",
      "Done computing similarity matrix.\n",
      "Computing the msd similarity matrix...\n",
      "Done computing similarity matrix.\n",
      "Computing the msd similarity matrix...\n",
      "Done computing similarity matrix.\n",
      "Computing the msd similarity matrix...\n",
      "Done computing similarity matrix.\n",
      "Computing the msd similarity matrix...\n",
      "Done computing similarity matrix.\n",
      "Computing the msd similarity matrix...\n",
      "Done computing similarity matrix.\n",
      "Computing the msd similarity matrix...\n",
      "Done computing similarity matrix.\n",
      "Computing the msd similarity matrix...\n",
      "Done computing similarity matrix.\n",
      "Computing the msd similarity matrix...\n",
      "Done computing similarity matrix.\n",
      "Computing the msd similarity matrix...\n",
      "Done computing similarity matrix.\n",
      "Computing the msd similarity matrix...\n",
      "Done computing similarity matrix.\n",
      "Computing the msd similarity matrix...\n",
      "Done computing similarity matrix.\n",
      "Computing the msd similarity matrix...\n",
      "Done computing similarity matrix.\n",
      "Computing the msd similarity matrix...\n",
      "Done computing similarity matrix.\n",
      "Computing the msd similarity matrix...\n",
      "Done computing similarity matrix.\n",
      "Computing the msd similarity matrix...\n",
      "Done computing similarity matrix.\n",
      "Computing the msd similarity matrix...\n",
      "Done computing similarity matrix.\n",
      "Computing the msd similarity matrix...\n",
      "Done computing similarity matrix.\n",
      "Computing the msd similarity matrix...\n",
      "Done computing similarity matrix.\n",
      "Computing the msd similarity matrix...\n",
      "Done computing similarity matrix.\n",
      "Computing the msd similarity matrix...\n",
      "Done computing similarity matrix.\n",
      "Computing the msd similarity matrix...\n",
      "Done computing similarity matrix.\n",
      "Computing the msd similarity matrix...\n",
      "Done computing similarity matrix.\n",
      "Computing the msd similarity matrix...\n",
      "Done computing similarity matrix.\n",
      "Computing the msd similarity matrix...\n",
      "Done computing similarity matrix.\n",
      "Computing the msd similarity matrix...\n",
      "Done computing similarity matrix.\n",
      "Computing the msd similarity matrix...\n",
      "Done computing similarity matrix.\n"
     ]
    }
   ],
   "source": [
    "gs.fit(data_sub)"
   ]
  },
  {
   "cell_type": "code",
   "execution_count": 435,
   "metadata": {},
   "outputs": [],
   "source": [
    "results_df = pd.DataFrame.from_dict(gs.cv_results)"
   ]
  },
  {
   "cell_type": "code",
   "execution_count": 438,
   "metadata": {},
   "outputs": [],
   "source": [
    "n_k = results_df['param_k']\n",
    "mae_results = results_df['mean_test_mae']\n",
    "rmse_results = results_df['mean_test_rmse']"
   ]
  },
  {
   "cell_type": "code",
   "execution_count": 439,
   "metadata": {},
   "outputs": [
    {
     "name": "stdout",
     "output_type": "stream",
     "text": [
      "Best RMSE 1.002963\n",
      "BEST MAE 0.775107\n"
     ]
    }
   ],
   "source": [
    "# best RMSE score\n",
    "print('Best RMSE', '{:f}'.format(gs.best_score['rmse']))\n",
    "print('BEST MAE', '{:f}'.format(gs.best_score['mae']))"
   ]
  },
  {
   "cell_type": "code",
   "execution_count": 442,
   "metadata": {},
   "outputs": [
    {
     "data": {
      "image/png": "[encoded data removed]",
      "text/plain": [
       "<Figure size 432x288 with 1 Axes>"
      ]
     },
     "metadata": {
      "needs_background": "light"
     },
     "output_type": "display_data"
    }
   ],
   "source": [
    "fig, ax = plt.subplots()\n",
    "ax.plot(n_k, mae_results, label='mae');\n",
    "ax.plot(n_k, rmse_results, label='rmse');\n",
    "ax.set_title('RMSE/MAE vs number of neighbors')\n",
    "ax.set_xlabel('number of neighbors')\n",
    "ax.set_ylabel('RMSE/MAE')\n",
    "ax.legend();"
   ]
  },
  {
   "cell_type": "markdown",
   "metadata": {},
   "source": [
    "**Explanation:**\n",
    "- As we can see from the results above, as the number of neighbors increases, both of the accuracy measures decrease. This makes sense because as the model considers more items(neighbors) while making predictions, the model becomes more capable of making more accurate predictions."
   ]
  },
  {
   "cell_type": "markdown",
   "metadata": {},
   "source": [
    "### Part 4.2: GS setup for Matrix Factorization"
   ]
  },
  {
   "cell_type": "code",
   "execution_count": 446,
   "metadata": {},
   "outputs": [],
   "source": [
    "param_grid = {'n_factors': [10, 20, 30, 40, 50, 60, 70]}"
   ]
  },
  {
   "cell_type": "code",
   "execution_count": 447,
   "metadata": {},
   "outputs": [],
   "source": [
    "gs = GridSearchCV(NMF, \n",
    "                  param_grid, \n",
    "                  measures=['RMSE', 'MAE'], \n",
    "                  cv=5)"
   ]
  },
  {
   "cell_type": "code",
   "execution_count": 448,
   "metadata": {},
   "outputs": [],
   "source": [
    "gs.fit(data_sub)"
   ]
  },
  {
   "cell_type": "code",
   "execution_count": 449,
   "metadata": {},
   "outputs": [],
   "source": [
    "results_df = pd.DataFrame.from_dict(gs.cv_results)"
   ]
  },
  {
   "cell_type": "code",
   "execution_count": 450,
   "metadata": {},
   "outputs": [],
   "source": [
    "n_factors = results_df['param_n_factors']\n",
    "mae_results = results_df['mean_test_mae']\n",
    "rmse_results = results_df['mean_test_rmse']"
   ]
  },
  {
   "cell_type": "code",
   "execution_count": 451,
   "metadata": {},
   "outputs": [
    {
     "name": "stdout",
     "output_type": "stream",
     "text": [
      "Best RMSE 1.015863\n",
      "BEST MAE 0.775138\n"
     ]
    }
   ],
   "source": [
    "# best RMSE score\n",
    "print('Best RMSE', '{:f}'.format(gs.best_score['rmse']))\n",
    "print('BEST MAE', '{:f}'.format(gs.best_score['mae']))"
   ]
  },
  {
   "cell_type": "code",
   "execution_count": 452,
   "metadata": {},
   "outputs": [
    {
     "data": {
      "image/png": "[encoded data removed]",
      "text/plain": [
       "<Figure size 432x288 with 1 Axes>"
      ]
     },
     "metadata": {
      "needs_background": "light"
     },
     "output_type": "display_data"
    }
   ],
   "source": [
    "fig, ax = plt.subplots()\n",
    "ax.plot(n_factors, mae_results, label='mae');\n",
    "ax.plot(n_factors, rmse_results, label='rmse');\n",
    "ax.set_title('RMSE/MAE vs number of latent vectors')\n",
    "ax.set_xlabel('number of latent vectors')\n",
    "ax.set_ylabel('RMSE/MAE')\n",
    "ax.legend();"
   ]
  },
  {
   "cell_type": "markdown",
   "metadata": {},
   "source": [
    "**Explanation:**\n",
    "- As we can see from the results above, as the number of latent vectors increases, both of the accuracy measures decrease. This makes sense because the matrix factorization algorithm re-constructs the true matrix more accurately with higher latent vector size."
   ]
  },
  {
   "cell_type": "markdown",
   "metadata": {},
   "source": [
    "## Part 5: Other design"
   ]
  },
  {
   "cell_type": "markdown",
   "metadata": {},
   "source": [
    "There are two key observations arise from the above section:\n",
    "\n",
    "1. Models with higher complexity usually perform better.\n",
    "    - According to the grid-search results, the \"accuracy\" of the models increase as the number of latent vectors/number of neightbos increase. Therefore, if we want to further increase the accuracy of the baseline models built previously, we should definitely construct models with reasonably high complexity.\n",
    "\n",
    "\n",
    "2. The test set's coverage of the more \"accurate\" model is lower.\n",
    "    - xxx\n",
    " "
   ]
  },
  {
   "cell_type": "code",
   "execution_count": null,
   "metadata": {},
   "outputs": [],
   "source": []
  }
 ],
 "metadata": {
  "kernelspec": {
   "display_name": "Python 3",
   "language": "python",
   "name": "python3"
  },
  "language_info": {
   "codemirror_mode": {
    "name": "ipython",
    "version": 3
   },
   "file_extension": ".py",
   "mimetype": "text/x-python",
   "name": "python",
   "nbconvert_exporter": "python",
   "pygments_lexer": "ipython3",
   "version": "3.7.6"
  }
 },
 "nbformat": 4,
 "nbformat_minor": 4
}
