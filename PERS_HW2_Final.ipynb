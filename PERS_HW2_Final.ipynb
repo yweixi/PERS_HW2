{
 "cells": [
  {
   "cell_type": "markdown",
   "metadata": {},
   "source": [
    "# Homework 2"
   ]
  },
  {
   "cell_type": "code",
   "execution_count": null,
   "metadata": {},
   "outputs": [],
   "source": [
    "\"\"\"\n",
    "Project members:\n",
    "Weixi Yao (wy2350)\n",
    "Kushal Wijesundara (kcw2144)\n",
    "James Ding (jd3703)\n",
    "Ryan McNally (rom2109)\n",
    "\"\"\""
   ]
  },
  {
   "cell_type": "code",
   "execution_count": 7,
   "metadata": {},
   "outputs": [],
   "source": [
    "import os\n",
    "import time\n",
    "import sklearn\n",
    "import numpy as np\n",
    "import pandas as pd\n",
    "import surprise\n",
    "import seaborn as sns\n",
    "import matplotlib.pyplot as plt\n",
    "\n",
    "from utility import *\n",
    "from scipy import stats\n",
    "from surprise import NMF\n",
    "from surprise import Reader\n",
    "from surprise import Dataset\n",
    "from surprise import KNNWithMeans\n",
    "from collections import defaultdict, Counter\n",
    "from surprise.model_selection import GridSearchCV\n",
    "from surprise.model_selection import cross_validate\n",
    "from surprise.model_selection import train_test_split\n",
    "%matplotlib inline"
   ]
  },
  {
   "cell_type": "markdown",
   "metadata": {},
   "source": [
    "## Part 1: Business Objectives"
   ]
  },
  {
   "cell_type": "markdown",
   "metadata": {},
   "source": [
    "**1. Our objective**\n",
    "- The objective of this recommendation system is to increase users' experience/stickiness and ultimately their time spent on our site by making their search for the movies easier as well as by making them consistenly interested in our movie inventory. To achieve that, the recommendation system will provide a list of n (customizable, default 5 and we use 1 for this case study) movies to the users every time they log in, and the recommendation list will be a combination of movies that are most relevant to the users as well as the movies that are novel to the users.\n",
    "\n",
    "**2. Other metrics we wish to optimize, in addition to accuracy**\n",
    "- To echo back to the objective of our recommendation system, we will use item-coverage and novelty as the two metrics we optimize in addition to accuracy.\n",
    "- Therefore, we will simultaneously optimize for coverage and novelty, the hypothesis being that a sufficiently diverse and new set of recommendations *with* a high accuracy will lead to deeper engagement, more time on the site, more clicks through the recommender, and will yield high quality data for improving the model in later stages.\n",
    "\n",
    "**3. The intended user**\n",
    "- The intended user for the business is any movie watcher & content consumer. Our objective is to maximize the engagement and personalization of this fundamental user. As a core piece of the user experience uplift strategy, this recommendation system intends to serve all users coming to our site to search for movies to watch, which means this recommendation system should be able to make recommendations to both new users and existing users. New users with little to no engagement data will be recommended very diverse and popular movies while their behavior and tastes become evident to the model over time.\n",
    "\n",
    "**4. Business rules we think will be important**\n",
    "- Never recommend items with less than 20% popularity. Our overall strategy will be to \"discard\" the movies that are the least popular, \"maintain\" the movies that are the most popular, and \"boost\" the movies that are in the middle of the popularity spectrum. \n",
    "- Always include the most popular movies in the recommendation to users who are at the bottom 25% in terms of activeness(measured by the number of movies rated). This will serve as a baseline cold-start strategy.\n",
    "- Always recommend movies that the users have started but haven't finished if the relevant user data is accessible.\n",
    "- Always recommend movies that are trending now. For example, recommend romance movies during Valentine's Day.\n",
    "- Always include some level of novelty in the recommendations, meaning movies from different genres.\n",
    "\n",
    "**5. Performance requirements**\n",
    "- The time complexity of rating making should be O(kN), where N denotes the number of movie items.\n",
    "\n",
    "**6. Notable sacrifices** \n",
    "   - As it pertains to the **final recommendation:** There is room for future improvement in testing the recommendation of unpopular movies on subsets of users, and then boosting them pending positive feedback. As it stands, we require a critical mass of ratings for a film to be considered for recommendation by the model (20th percentile of ratings received). A new movie that is never recommended has no hope of getting to that critical mass. \n",
    "   - As it pertains to **optimazation and accuracy:** We are willing to sacrifice maximal 'accuracy' for the deeper and broader goal of attaining a holistic understanding of our users and their tastes. A maximally accurate but non-novel or high-coverage model might converge and recommend the user's favorite movie back to them n times repeatedly; the chances of a user remaining on the site or clicking through over and over in that situation are low.\n",
    "   - As it pertains to **data sampling for model building:** Our sampling method biases for existing popularity, this will ignore currently unpopular users and movies (<50th percentile in the dataset). This is mainly for ensuring richness of signal in the final model which will be recommending *to* sparse datapoint users. This is a business decision, we would rather have a functional beta model to begin with than to erroneously recommend movies with a low network effect, at least for an inital v1. We cannot let the perfect be the enemy of the good. (We delve into tuning this parameter in Part 6 with impacts on training performance and model performance.)"
   ]
  },
  {
   "cell_type": "markdown",
   "metadata": {},
   "source": [
    "### Part 1.1: Exploratory Data Analysis"
   ]
  },
  {
   "cell_type": "markdown",
   "metadata": {},
   "source": [
    "Based on the instructions, we downloaded the entire movie data set at https://grouplens.org/datasets/movielens/latest/ with 27M ratings\n",
    "for exploratory data analysis. Within the movie data, the ratings data set consists of 'userids', 'movieids', 'ratings' and 'timestamp' along with the  the movies dataset, which consists of 'movieids', 'titles' and 'genres'. For further subsetting and analysis, we converted the 'timestamp' column into year."
   ]
  },
  {
   "cell_type": "code",
   "execution_count": 8,
   "metadata": {},
   "outputs": [],
   "source": [
    "def rating_movie_df():\n",
    "    ratings = pd.read_csv('./ml-latest/ratings.csv')\n",
    "    movies = pd.read_csv('./ml-latest/movies.csv')\n",
    "    return ratings,movies"
   ]
  },
  {
   "cell_type": "code",
   "execution_count": 20,
   "metadata": {},
   "outputs": [],
   "source": [
    "ratings, movies = rating_movie_df()"
   ]
  },
  {
   "cell_type": "code",
   "execution_count": 21,
   "metadata": {},
   "outputs": [
    {
     "data": {
      "text/html": [
       "<div>\n",
       "<style scoped>\n",
       "    .dataframe tbody tr th:only-of-type {\n",
       "        vertical-align: middle;\n",
       "    }\n",
       "\n",
       "    .dataframe tbody tr th {\n",
       "        vertical-align: top;\n",
       "    }\n",
       "\n",
       "    .dataframe thead th {\n",
       "        text-align: right;\n",
       "    }\n",
       "</style>\n",
       "<table border=\"1\" class=\"dataframe\">\n",
       "  <thead>\n",
       "    <tr style=\"text-align: right;\">\n",
       "      <th></th>\n",
       "      <th>userId</th>\n",
       "      <th>movieId</th>\n",
       "      <th>rating</th>\n",
       "      <th>year</th>\n",
       "      <th>title</th>\n",
       "      <th>genres</th>\n",
       "    </tr>\n",
       "  </thead>\n",
       "  <tbody>\n",
       "    <tr>\n",
       "      <th>0</th>\n",
       "      <td>1</td>\n",
       "      <td>307</td>\n",
       "      <td>3.5</td>\n",
       "      <td>2009</td>\n",
       "      <td>Three Colors: Blue (Trois couleurs: Bleu) (1993)</td>\n",
       "      <td>Drama</td>\n",
       "    </tr>\n",
       "    <tr>\n",
       "      <th>1</th>\n",
       "      <td>6</td>\n",
       "      <td>307</td>\n",
       "      <td>4.0</td>\n",
       "      <td>1996</td>\n",
       "      <td>Three Colors: Blue (Trois couleurs: Bleu) (1993)</td>\n",
       "      <td>Drama</td>\n",
       "    </tr>\n",
       "    <tr>\n",
       "      <th>2</th>\n",
       "      <td>56</td>\n",
       "      <td>307</td>\n",
       "      <td>4.0</td>\n",
       "      <td>2013</td>\n",
       "      <td>Three Colors: Blue (Trois couleurs: Bleu) (1993)</td>\n",
       "      <td>Drama</td>\n",
       "    </tr>\n",
       "    <tr>\n",
       "      <th>3</th>\n",
       "      <td>71</td>\n",
       "      <td>307</td>\n",
       "      <td>5.0</td>\n",
       "      <td>2009</td>\n",
       "      <td>Three Colors: Blue (Trois couleurs: Bleu) (1993)</td>\n",
       "      <td>Drama</td>\n",
       "    </tr>\n",
       "    <tr>\n",
       "      <th>4</th>\n",
       "      <td>84</td>\n",
       "      <td>307</td>\n",
       "      <td>3.0</td>\n",
       "      <td>2001</td>\n",
       "      <td>Three Colors: Blue (Trois couleurs: Bleu) (1993)</td>\n",
       "      <td>Drama</td>\n",
       "    </tr>\n",
       "  </tbody>\n",
       "</table>\n",
       "</div>"
      ],
      "text/plain": [
       "   userId  movieId  rating  year  \\\n",
       "0       1      307     3.5  2009   \n",
       "1       6      307     4.0  1996   \n",
       "2      56      307     4.0  2013   \n",
       "3      71      307     5.0  2009   \n",
       "4      84      307     3.0  2001   \n",
       "\n",
       "                                              title genres  \n",
       "0  Three Colors: Blue (Trois couleurs: Bleu) (1993)  Drama  \n",
       "1  Three Colors: Blue (Trois couleurs: Bleu) (1993)  Drama  \n",
       "2  Three Colors: Blue (Trois couleurs: Bleu) (1993)  Drama  \n",
       "3  Three Colors: Blue (Trois couleurs: Bleu) (1993)  Drama  \n",
       "4  Three Colors: Blue (Trois couleurs: Bleu) (1993)  Drama  "
      ]
     },
     "execution_count": 21,
     "metadata": {},
     "output_type": "execute_result"
    }
   ],
   "source": [
    "# merge data\n",
    "movie_ratings = ratings.merge(movies, on = 'movieId', how = 'inner')\n",
    "movie_ratings['timestamp'] = pd.to_datetime(movie_ratings['timestamp'], unit='s').dt.year\n",
    "movie_ratings.rename(columns = {'timestamp':'year'}, inplace = True)\n",
    "movie_ratings.head()"
   ]
  },
  {
   "cell_type": "code",
   "execution_count": 22,
   "metadata": {},
   "outputs": [
    {
     "data": {
      "text/html": [
       "<div>\n",
       "<style scoped>\n",
       "    .dataframe tbody tr th:only-of-type {\n",
       "        vertical-align: middle;\n",
       "    }\n",
       "\n",
       "    .dataframe tbody tr th {\n",
       "        vertical-align: top;\n",
       "    }\n",
       "\n",
       "    .dataframe thead th {\n",
       "        text-align: right;\n",
       "    }\n",
       "</style>\n",
       "<table border=\"1\" class=\"dataframe\">\n",
       "  <thead>\n",
       "    <tr style=\"text-align: right;\">\n",
       "      <th></th>\n",
       "      <th>count</th>\n",
       "      <th>mean</th>\n",
       "      <th>std</th>\n",
       "      <th>min</th>\n",
       "      <th>25%</th>\n",
       "      <th>50%</th>\n",
       "      <th>75%</th>\n",
       "      <th>max</th>\n",
       "    </tr>\n",
       "  </thead>\n",
       "  <tbody>\n",
       "    <tr>\n",
       "      <th>userId</th>\n",
       "      <td>27753444.0</td>\n",
       "      <td>141942.015571</td>\n",
       "      <td>81707.400091</td>\n",
       "      <td>1.0</td>\n",
       "      <td>71176.0</td>\n",
       "      <td>142022.0</td>\n",
       "      <td>212459.0</td>\n",
       "      <td>283228.0</td>\n",
       "    </tr>\n",
       "    <tr>\n",
       "      <th>movieId</th>\n",
       "      <td>27753444.0</td>\n",
       "      <td>18487.999834</td>\n",
       "      <td>35102.625247</td>\n",
       "      <td>1.0</td>\n",
       "      <td>1097.0</td>\n",
       "      <td>2716.0</td>\n",
       "      <td>7150.0</td>\n",
       "      <td>193886.0</td>\n",
       "    </tr>\n",
       "    <tr>\n",
       "      <th>rating</th>\n",
       "      <td>27753444.0</td>\n",
       "      <td>3.530445</td>\n",
       "      <td>1.066353</td>\n",
       "      <td>0.5</td>\n",
       "      <td>3.0</td>\n",
       "      <td>3.5</td>\n",
       "      <td>4.0</td>\n",
       "      <td>5.0</td>\n",
       "    </tr>\n",
       "    <tr>\n",
       "      <th>year</th>\n",
       "      <td>27753444.0</td>\n",
       "      <td>2007.302610</td>\n",
       "      <td>6.871880</td>\n",
       "      <td>1995.0</td>\n",
       "      <td>2001.0</td>\n",
       "      <td>2007.0</td>\n",
       "      <td>2015.0</td>\n",
       "      <td>2018.0</td>\n",
       "    </tr>\n",
       "  </tbody>\n",
       "</table>\n",
       "</div>"
      ],
      "text/plain": [
       "              count           mean           std     min      25%       50%  \\\n",
       "userId   27753444.0  141942.015571  81707.400091     1.0  71176.0  142022.0   \n",
       "movieId  27753444.0   18487.999834  35102.625247     1.0   1097.0    2716.0   \n",
       "rating   27753444.0       3.530445      1.066353     0.5      3.0       3.5   \n",
       "year     27753444.0    2007.302610      6.871880  1995.0   2001.0    2007.0   \n",
       "\n",
       "              75%       max  \n",
       "userId   212459.0  283228.0  \n",
       "movieId    7150.0  193886.0  \n",
       "rating        4.0       5.0  \n",
       "year       2015.0    2018.0  "
      ]
     },
     "execution_count": 22,
     "metadata": {},
     "output_type": "execute_result"
    }
   ],
   "source": [
    "# numerical data statistics\n",
    "movie_ratings.describe(include='number').transpose()"
   ]
  },
  {
   "cell_type": "code",
   "execution_count": 23,
   "metadata": {},
   "outputs": [
    {
     "data": {
      "text/html": [
       "<div>\n",
       "<style scoped>\n",
       "    .dataframe tbody tr th:only-of-type {\n",
       "        vertical-align: middle;\n",
       "    }\n",
       "\n",
       "    .dataframe tbody tr th {\n",
       "        vertical-align: top;\n",
       "    }\n",
       "\n",
       "    .dataframe thead th {\n",
       "        text-align: right;\n",
       "    }\n",
       "</style>\n",
       "<table border=\"1\" class=\"dataframe\">\n",
       "  <thead>\n",
       "    <tr style=\"text-align: right;\">\n",
       "      <th></th>\n",
       "      <th>count</th>\n",
       "      <th>unique</th>\n",
       "      <th>top</th>\n",
       "      <th>freq</th>\n",
       "    </tr>\n",
       "  </thead>\n",
       "  <tbody>\n",
       "    <tr>\n",
       "      <th>title</th>\n",
       "      <td>27753444</td>\n",
       "      <td>53817</td>\n",
       "      <td>Shawshank Redemption, The (1994)</td>\n",
       "      <td>97999</td>\n",
       "    </tr>\n",
       "    <tr>\n",
       "      <th>genres</th>\n",
       "      <td>27753444</td>\n",
       "      <td>1610</td>\n",
       "      <td>Drama</td>\n",
       "      <td>1959338</td>\n",
       "    </tr>\n",
       "  </tbody>\n",
       "</table>\n",
       "</div>"
      ],
      "text/plain": [
       "           count unique                               top     freq\n",
       "title   27753444  53817  Shawshank Redemption, The (1994)    97999\n",
       "genres  27753444   1610                             Drama  1959338"
      ]
     },
     "execution_count": 23,
     "metadata": {},
     "output_type": "execute_result"
    }
   ],
   "source": [
    "#categorical data statistics\n",
    "movie_ratings.describe(include='object').transpose()"
   ]
  },
  {
   "cell_type": "markdown",
   "metadata": {},
   "source": [
    "In the following sections, the exploratory data analysis on the Full 27M dataset preset the significance of movies, ratings, and users counts as well as the distribution of ratings, top popular movies, and popular movie distribution. "
   ]
  },
  {
   "cell_type": "code",
   "execution_count": 24,
   "metadata": {},
   "outputs": [
    {
     "data": {
      "image/png": "[encoded data removed]",
      "text/plain": [
       "<Figure size 576x432 with 1 Axes>"
      ]
     },
     "metadata": {
      "needs_background": "light"
     },
     "output_type": "display_data"
    }
   ],
   "source": [
    "plt.figure(figsize = (8,6))\n",
    "movie_year = movie_ratings.groupby('year').nunique()[['movieId']].reset_index().sort_values('movieId')\n",
    "year = np.arange(len(movie_year['year']))\n",
    "plt.barh(year, movie_year['movieId'], align='center', color ='cyan', edgecolor = 'darkblue')\n",
    "plt.ticklabel_format(style='sci', axis='x', scilimits=(0,0))\n",
    "#plt.gca().invert_xaxis()\n",
    "plt.yticks(year, movie_year['year'])\n",
    "plt.ylabel('Year', fontsize = 16)\n",
    "plt.xlabel('Unique Movie count', fontsize = 16)\n",
    "plt.show()"
   ]
  },
  {
   "cell_type": "markdown",
   "metadata": {},
   "source": [
    "The number of unique movies against the year is presented above. It seems to be that few unique movies in the 90's and it gradually picked up in the 2000's. What is more significant is that the rate almost doubled from 2015 to 2018 compared to the early 2000's. (note: unique movie count in millions)"
   ]
  },
  {
   "cell_type": "code",
   "execution_count": 25,
   "metadata": {},
   "outputs": [
    {
     "data": {
      "image/png": "[encoded data removed]",
      "text/plain": [
       "<Figure size 576x432 with 1 Axes>"
      ]
     },
     "metadata": {
      "needs_background": "light"
     },
     "output_type": "display_data"
    }
   ],
   "source": [
    "plt.figure(figsize = (8,6))\n",
    "rating_year = movie_ratings.groupby('year').count()[['rating']].reset_index().sort_values('rating')\n",
    "year = np.arange(len(rating_year['year']))\n",
    "plt.barh(year, rating_year['rating'], align='center', color ='cyan', edgecolor = 'darkblue')\n",
    "plt.ticklabel_format(style='sci', axis='x', scilimits=(0,0))\n",
    "#plt.gca().invert_xaxis()\n",
    "plt.yticks(year, rating_year['year'])\n",
    "plt.ylabel('Year', fontsize = 16)\n",
    "plt.xlabel('Ratings count', fontsize = 16)\n",
    "plt.show()"
   ]
  },
  {
   "cell_type": "markdown",
   "metadata": {},
   "source": [
    "Based on the above histograms, we had the most ratings from 2015 to 2017 were live-streaming started to become increasingly popular, 2005 when mass-streaming started, and the years 1996 and 2000 due to the release of popular movies.  (note: ratings count in millions)"
   ]
  },
  {
   "cell_type": "code",
   "execution_count": 26,
   "metadata": {},
   "outputs": [
    {
     "data": {
      "image/png": "[encoded data removed]",
      "text/plain": [
       "<Figure size 576x432 with 1 Axes>"
      ]
     },
     "metadata": {
      "needs_background": "light"
     },
     "output_type": "display_data"
    }
   ],
   "source": [
    "plt.figure(figsize = (8,6))\n",
    "user_year = movie_ratings.groupby('year').nunique()[['userId']].reset_index().sort_values('userId')\n",
    "year = np.arange(len(user_year['year']))\n",
    "plt.barh(year, user_year['userId'], align='center', color ='cyan', edgecolor = 'darkblue')\n",
    "plt.ticklabel_format(style='sci', axis='x', scilimits=(0,0))\n",
    "#plt.gca().invert_xaxis()\n",
    "plt.yticks(year, user_year['year'])\n",
    "plt.ylabel('Year', fontsize = 16)\n",
    "plt.xlabel('Unique User count', fontsize = 16)\n",
    "plt.show()"
   ]
  },
  {
   "cell_type": "markdown",
   "metadata": {},
   "source": [
    "Based on the histograms year 1996 had the most user count while 1995 had the lowest. Further analysis revealed (see last plot for popular movie analysis) most of the popular movies were dated  back to 1994, which could account for this behavior. (note: unique user count in millions)"
   ]
  },
  {
   "cell_type": "code",
   "execution_count": 27,
   "metadata": {},
   "outputs": [
    {
     "data": {
      "image/png": "[encoded data removed]",
      "text/plain": [
       "<Figure size 576x432 with 1 Axes>"
      ]
     },
     "metadata": {
      "needs_background": "light"
     },
     "output_type": "display_data"
    }
   ],
   "source": [
    "plt.figure(figsize = (8,6))\n",
    "ax = sns.countplot(data = movie_ratings,x='rating', palette = 'Blues', edgecolor = 'white')\n",
    "ax.ticklabel_format(style='sci', axis='y', scilimits=(0,0))\n",
    "plt.xlabel('Ratings', fontsize = 16)\n",
    "plt.ylabel('No of ratings', fontsize = 16)\n",
    "total = float(len(movie_ratings))\n",
    "for p in ax.patches:\n",
    "    height = p.get_height()\n",
    "    ax.text(p.get_x() + p.get_width()/2.,\n",
    "            height + 5,\n",
    "            '{:1.1f}%'.format(100*height/total),\n",
    "            ha = 'center')\n",
    "plt.show()"
   ]
  },
  {
   "cell_type": "markdown",
   "metadata": {},
   "source": [
    "The distribution of the ratings for the entire data set is shown above. It presents a negatively skewed distribution where the mean rating and median is above 3.  (note: # of ratings in millions)"
   ]
  },
  {
   "cell_type": "markdown",
   "metadata": {},
   "source": [
    "## Part 2: Two models building"
   ]
  },
  {
   "cell_type": "code",
   "execution_count": 14,
   "metadata": {},
   "outputs": [
    {
     "name": "stdout",
     "output_type": "stream",
     "text": [
      "number of distinct participated users:  283228\n",
      "number of distinct rated movies:  53889\n"
     ]
    }
   ],
   "source": [
    "# load the data set for full ratings\n",
    "ratings = pd.read_csv('./ml-latest/ratings.csv', \n",
    "                      usecols=['userId', 'movieId', 'rating'],\n",
    "                      dtype={'user|Id':'int32', 'movieId':'int32', 'rating':'float128'},\n",
    "                      sep=',')\n",
    "movies = pd.read_csv('./ml-latest/movies.csv',\n",
    "                    dtype={'movieId':'int32'})\n",
    "print(\"number of distinct participated users: \", ratings['userId'].nunique())\n",
    "print(\"number of distinct rated movies: \", ratings['movieId'].nunique())"
   ]
  },
  {
   "cell_type": "markdown",
   "metadata": {},
   "source": [
    "For experiment and development purposes, we will extract a small subset of users and movie items from the \"full\" dataset.\n",
    "\n",
    "We will first select ~1000 items and ~25000 users for model development and we will then select ~200 items and ~1500 users from the development set for testing purposes.\n",
    "\n",
    "The methodology of selecting these users and items will be discussed in the data exploration section."
   ]
  },
  {
   "cell_type": "markdown",
   "metadata": {},
   "source": [
    "**Data exploration and dataset sampling**"
   ]
  },
  {
   "cell_type": "markdown",
   "metadata": {},
   "source": [
    "Understanding how the data is distributed is crucial for designing the subsampling strategy and we believe that, in a real world setting, data collected from explicit feedbacks like ratings can be very sparse and data points are mostly collected from very popular movies and highly active users.\n",
    "\n",
    "The following data exploration will justify our hypothesis."
   ]
  },
  {
   "cell_type": "code",
   "execution_count": 5,
   "metadata": {},
   "outputs": [
    {
     "data": {
      "image/png": "[encoded data removed]",
      "text/plain": [
       "<Figure size 1440x720 with 1 Axes>"
      ]
     },
     "metadata": {
      "needs_background": "light"
     },
     "output_type": "display_data"
    },
    {
     "data": {
      "image/png": "[encoded data removed]",
      "text/plain": [
       "<Figure size 1440x720 with 1 Axes>"
      ]
     },
     "metadata": {
      "needs_background": "light"
     },
     "output_type": "display_data"
    }
   ],
   "source": [
    "# visualize the popularity by each movie\n",
    "movie_popularity = ratings[['userId', 'movieId']].groupby('movieId').count()\n",
    "movie_popularity.columns=['num_ratings']\n",
    "plt.figure(figsize=(20, 10))\n",
    "plt.scatter(movie_popularity.index, \n",
    "            movie_popularity.num_ratings, \n",
    "            edgecolor='black')\n",
    "plt.xlim(0, movie_popularity.index.max())\n",
    "plt.ylim(0,)\n",
    "plt.title('Ratings per movie')\n",
    "plt.xlabel('movieId')\n",
    "plt.ylabel('Number of ratings received')\n",
    "plt.show()\n",
    "\n",
    "# visualize the distribution of the popularity across all movies\n",
    "plt.figure(figsize=(20, 10))\n",
    "plt.hist(movie_popularity.num_ratings, \n",
    "         bins=200, \n",
    "         edgecolor='black', \n",
    "         log=True)\n",
    "plt.title('Ratings per movie')\n",
    "plt.xlabel('Number of ratings received')\n",
    "plt.ylabel('Number of movieIds')\n",
    "plt.xlim(0,)\n",
    "plt.show()"
   ]
  },
  {
   "cell_type": "code",
   "execution_count": 6,
   "metadata": {},
   "outputs": [
    {
     "data": {
      "image/png": "[encoded data removed]",
      "text/plain": [
       "<Figure size 1440x720 with 1 Axes>"
      ]
     },
     "metadata": {
      "needs_background": "light"
     },
     "output_type": "display_data"
    },
    {
     "data": {
      "image/png": "[encoded data removed]",
      "text/plain": [
       "<Figure size 1440x720 with 1 Axes>"
      ]
     },
     "metadata": {
      "needs_background": "light"
     },
     "output_type": "display_data"
    }
   ],
   "source": [
    "# visualize the popularity by each movie\n",
    "user_activeness = ratings[['userId', 'movieId']].groupby('userId').count()\n",
    "user_activeness.columns=['num_ratings']\n",
    "plt.figure(figsize=(20, 10))\n",
    "plt.scatter(user_activeness.index, \n",
    "            user_activeness.num_ratings, \n",
    "            edgecolor='black')\n",
    "plt.xlim(0, user_activeness.index.max())\n",
    "plt.ylim(0,)\n",
    "plt.title('Ratings per user')\n",
    "plt.xlabel('userId')\n",
    "plt.ylabel('Number of ratings given')\n",
    "plt.show()\n",
    "\n",
    "# visualize the distribution of the popularity across all movies\n",
    "plt.figure(figsize=(20, 10))\n",
    "plt.hist(user_activeness.num_ratings, \n",
    "         bins=200, \n",
    "         edgecolor='black', \n",
    "         log=True)\n",
    "plt.title('Ratings per user')\n",
    "plt.xlabel('Number of ratings given')\n",
    "plt.ylabel('Number of userIds')\n",
    "plt.xlim(0,)\n",
    "plt.show()"
   ]
  },
  {
   "cell_type": "markdown",
   "metadata": {},
   "source": [
    "- The graphs above preliminarily confirm our assumptions regarding the distribution of the number of ratings received per movie and the distribution of the number of ratings given per user with a few particularly enthusiastic viewers, which are two extremely long-tailed distributions. Based on this observation, we ideally want to draw a subset of movie items and users that can represent the original dataset without giving unrealistically good or bad experiment results.\n",
    "\n",
    "\n",
    "- We specifically want to get rid of the movies whose popularity is at the bottom 50 percentile, because we believe that there is a high possibility that those movies are only favored by an extremely small group of users, and more importantly, that the average ratings received by those movies are more likely to be biased. The same strategy also applies to users.\n",
    "\n",
    "\n",
    "- For example, if certain movies are rated only once and received an average rating of 5, in an item-based collaborative filtering model, those movies will accidentally become part of the recommendations for many if not all users, which is not ideal. "
   ]
  },
  {
   "cell_type": "markdown",
   "metadata": {},
   "source": [
    "**Create a subset of dataset, save it for performance measurement**"
   ]
  },
  {
   "cell_type": "code",
   "execution_count": 7,
   "metadata": {},
   "outputs": [
    {
     "name": "stdout",
     "output_type": "stream",
     "text": [
      "number of distinct participated users (full):  24511\n",
      "number of distinct rated movies (full):  1000\n"
     ]
    }
   ],
   "source": [
    "ratings_full = sample_dateset_by_percentile(ratings, 25000, 1000)\n",
    "print(\"number of distinct participated users (full): \", ratings_full['userId'].nunique())\n",
    "print(\"number of distinct rated movies (full): \", ratings_full['movieId'].nunique())"
   ]
  },
  {
   "cell_type": "code",
   "execution_count": 8,
   "metadata": {},
   "outputs": [],
   "source": [
    "reader = Reader()\n",
    "data_full = Dataset.load_from_df(ratings_full[['userId', \n",
    "                                               'movieId', \n",
    "                                               'rating']], \n",
    "                                 reader=reader)"
   ]
  },
  {
   "cell_type": "markdown",
   "metadata": {},
   "source": [
    "**Create a subset of dataset, save it for development**"
   ]
  },
  {
   "cell_type": "code",
   "execution_count": 9,
   "metadata": {},
   "outputs": [
    {
     "name": "stdout",
     "output_type": "stream",
     "text": [
      "number of distinct participated users (subset):  1487\n",
      "number of distinct rated movies (subset):  200\n"
     ]
    }
   ],
   "source": [
    "ratings_sub = sample_dateset_by_percentile(ratings_full, 1500, 200)\n",
    "print(\"number of distinct participated users (subset): \", ratings_sub['userId'].nunique())\n",
    "print(\"number of distinct rated movies (subset): \", ratings_sub['movieId'].nunique())"
   ]
  },
  {
   "cell_type": "code",
   "execution_count": 10,
   "metadata": {},
   "outputs": [],
   "source": [
    "reader = Reader()\n",
    "data_sub = Dataset.load_from_df(ratings_sub[['userId', \n",
    "                                             'movieId', \n",
    "                                             'rating']], \n",
    "                                reader=reader)"
   ]
  },
  {
   "cell_type": "markdown",
   "metadata": {},
   "source": [
    "After careful manipulation, we have successfully keep 1487 users from top active levels and 200 movie items from top popularity levels, for development purposes."
   ]
  },
  {
   "cell_type": "markdown",
   "metadata": {},
   "source": [
    "### Part 2.1: Item-based neighborhood method"
   ]
  },
  {
   "cell_type": "code",
   "execution_count": 11,
   "metadata": {},
   "outputs": [],
   "source": [
    "trainvalset, testset = train_test_split(data_sub, test_size=0.2)"
   ]
  },
  {
   "cell_type": "code",
   "execution_count": 12,
   "metadata": {},
   "outputs": [],
   "source": [
    "# baseline modeling constructing\n",
    "item_model = KNNWithMeans(k=4, sim_options={'name': 'pearson', \n",
    "                                            'user_based': False, \n",
    "                                            'verbose' : False})"
   ]
  },
  {
   "cell_type": "code",
   "execution_count": 13,
   "metadata": {},
   "outputs": [
    {
     "name": "stdout",
     "output_type": "stream",
     "text": [
      "Computing the pearson similarity matrix...\n",
      "Done computing similarity matrix.\n"
     ]
    }
   ],
   "source": [
    "item_model.fit(trainvalset);"
   ]
  },
  {
   "cell_type": "code",
   "execution_count": 14,
   "metadata": {},
   "outputs": [
    {
     "name": "stdout",
     "output_type": "stream",
     "text": [
      "Prediction for rating:  user: 699        item: 296        r_ui = None   est = 3.50   {'was_impossible': True, 'reason': 'User and/or item is unknown.'}\n"
     ]
    }
   ],
   "source": [
    "uid = str(699)\n",
    "iid = str(296)\n",
    "item_model_pred = item_model.predict(uid, \n",
    "                                     iid, \n",
    "                                     verbose=False)\n",
    "print(\"Prediction for rating: \", item_model_pred)"
   ]
  },
  {
   "cell_type": "markdown",
   "metadata": {},
   "source": [
    "- In this project, we’ll use the surprise package, a popular package for building recommendation systems in Python. \n",
    "\n",
    "- At this part, we have sucessfully built and tested a baseline item-based neighborhood model by making a demo rating pradiction for user 699 and item 296.\n",
    "\n",
    "- The item-based neighborhood model built above uses pearson as the similarity metric and considers the ratings of four closest neighbors while making predictions."
   ]
  },
  {
   "cell_type": "markdown",
   "metadata": {},
   "source": [
    "### Part 2.2: Matrix Factorization"
   ]
  },
  {
   "cell_type": "code",
   "execution_count": 19,
   "metadata": {},
   "outputs": [],
   "source": [
    "# baseline model constructing\n",
    "NMF_model = NMF(n_factors=20, \n",
    "                n_epochs=10, \n",
    "                biased=True)"
   ]
  },
  {
   "cell_type": "code",
   "execution_count": 20,
   "metadata": {},
   "outputs": [],
   "source": [
    "NMF_model.fit(trainvalset);"
   ]
  },
  {
   "cell_type": "code",
   "execution_count": 21,
   "metadata": {},
   "outputs": [
    {
     "name": "stdout",
     "output_type": "stream",
     "text": [
      "Prediction for rating:  user: 699        item: 296        r_ui = None   est = 3.50   {'was_impossible': False}\n"
     ]
    }
   ],
   "source": [
    "uid = str(699)\n",
    "iid = str(296)\n",
    "NMF_model_pred = NMF_model.predict(uid, \n",
    "                                   iid,\n",
    "                                   verbose=False)\n",
    "print(\"Prediction for rating: \", NMF_model_pred)"
   ]
  },
  {
   "cell_type": "markdown",
   "metadata": {},
   "source": [
    "- At this part, we have sucessfully built and tested a baseline matrix factorization model(NMF) by making a demo rating pradiction for user 699 and item 296.\n",
    "\n",
    "- The NMF model built above decomposes the characteristic matrix in latent space size of 20."
   ]
  },
  {
   "cell_type": "markdown",
   "metadata": {},
   "source": [
    "## Part 3: Model evaluation"
   ]
  },
  {
   "cell_type": "markdown",
   "metadata": {},
   "source": [
    "### Part 3.1.1: CV setup for item-based neighborhood method"
   ]
  },
  {
   "cell_type": "markdown",
   "metadata": {},
   "source": [
    "For this task, we will use **RMSE(Root Mean Squared Error)** as the primary accuracy metric and **MAE(Mean Absolute Error)** as the secondary accuracy metric."
   ]
  },
  {
   "cell_type": "code",
   "execution_count": 22,
   "metadata": {},
   "outputs": [
    {
     "name": "stdout",
     "output_type": "stream",
     "text": [
      "Computing the pearson similarity matrix...\n",
      "Done computing similarity matrix.\n",
      "Computing the pearson similarity matrix...\n",
      "Done computing similarity matrix.\n",
      "Computing the pearson similarity matrix...\n",
      "Done computing similarity matrix.\n",
      "Computing the pearson similarity matrix...\n",
      "Done computing similarity matrix.\n",
      "Computing the pearson similarity matrix...\n",
      "Done computing similarity matrix.\n",
      "Evaluating RMSE, MAE of algorithm KNNWithMeans on 5 split(s).\n",
      "\n",
      "                  Fold 1  Fold 2  Fold 3  Fold 4  Fold 5  Mean    Std     \n",
      "RMSE (testset)    0.9485  0.9455  0.9549  0.9515  0.9470  0.9495  0.0034  \n",
      "MAE (testset)     0.7174  0.7168  0.7216  0.7168  0.7168  0.7179  0.0019  \n",
      "RMSE (trainset)   0.4178  0.4177  0.4184  0.4184  0.4192  0.4183  0.0005  \n",
      "MAE (trainset)    0.3122  0.3119  0.3128  0.3126  0.3134  0.3126  0.0005  \n",
      "Fit time          0.87    0.91    0.89    0.88    0.89    0.89    0.01    \n",
      "Test time         1.93    2.10    1.89    1.90    1.90    1.95    0.08    \n"
     ]
    }
   ],
   "source": [
    "# Run 5-fold cross-validation and print results\n",
    "result = cross_validate(item_model, \n",
    "                        data_full, \n",
    "                        measures=['RMSE', 'MAE'], \n",
    "                        cv=5, \n",
    "                        return_train_measures=True,\n",
    "                        verbose=True);"
   ]
  },
  {
   "cell_type": "markdown",
   "metadata": {},
   "source": [
    "The results above give an preliminary review of how well the model fits the training set as well as how well the model generalizes on the test set. According to the results above, the **average testset RMSE is 0.95** and the **average testset MAE is 0.72**."
   ]
  },
  {
   "cell_type": "markdown",
   "metadata": {},
   "source": [
    "### Part 3.1.2: Coverage of item-based neighborhood method"
   ]
  },
  {
   "cell_type": "code",
   "execution_count": 23,
   "metadata": {},
   "outputs": [],
   "source": [
    "trainvalset, testset = train_test_split(data_sub, test_size=0.2)\n",
    "trainvalset_testfy = trainvalset.build_anti_testset()"
   ]
  },
  {
   "cell_type": "code",
   "execution_count": 24,
   "metadata": {},
   "outputs": [],
   "source": [
    "user_list_train = set(trainvalset.all_users())\n",
    "user_list_test = set([item[0] for item in testset])\n",
    "\n",
    "item_list_train = set(trainvalset.all_items())\n",
    "item_list_test = set([item[1] for item in testset])"
   ]
  },
  {
   "cell_type": "code",
   "execution_count": 25,
   "metadata": {},
   "outputs": [
    {
     "name": "stdout",
     "output_type": "stream",
     "text": [
      "Computing the pearson similarity matrix...\n",
      "Done computing similarity matrix.\n"
     ]
    }
   ],
   "source": [
    "item_model.fit(trainvalset);"
   ]
  },
  {
   "cell_type": "code",
   "execution_count": 26,
   "metadata": {},
   "outputs": [],
   "source": [
    "predictions_train = item_model.test(trainvalset_testfy)\n",
    "predictions_test = item_model.test(testset)\n",
    "\n",
    "top_n_train = get_top_n(predictions_train, n=1)\n",
    "top_n_test = get_top_n(predictions_test, n=1)"
   ]
  },
  {
   "cell_type": "code",
   "execution_count": 27,
   "metadata": {},
   "outputs": [],
   "source": [
    "recommendation_train = []\n",
    "# Print the recommended items for each user\n",
    "for uid, user_ratings in top_n_train.items():\n",
    "    recommendation_train.append([iid for (iid, _) in user_ratings])\n",
    "    \n",
    "recommendation_train_list = []\n",
    "for rec_list in recommendation_train:\n",
    "    for item in rec_list:\n",
    "        recommendation_train_list.append(item)\n",
    "recommendation_train_list = set(recommendation_train_list)"
   ]
  },
  {
   "cell_type": "code",
   "execution_count": 28,
   "metadata": {},
   "outputs": [],
   "source": [
    "recommendation_test = []\n",
    "# Print the recommended items for each user\n",
    "for uid, user_ratings in top_n_test.items():\n",
    "    recommendation_test.append([iid for (iid, _) in user_ratings])\n",
    "\n",
    "recommendation_test_list = []\n",
    "for rec_list in recommendation_test:\n",
    "    for item in rec_list:\n",
    "        recommendation_test_list.append(item)\n",
    "recommendation_test_list = set(recommendation_test_list)"
   ]
  },
  {
   "cell_type": "code",
   "execution_count": 29,
   "metadata": {},
   "outputs": [
    {
     "name": "stdout",
     "output_type": "stream",
     "text": [
      "coverage on train set 0.29\n",
      "coverage on test set 0.67\n"
     ]
    }
   ],
   "source": [
    "print('coverage on train set', '{:.2f}'.format(len(recommendation_train_list)/len(item_list_train)))\n",
    "print('coverage on test set', '{:.2f}'.format(len(recommendation_test_list)/len(item_list_test)))"
   ]
  },
  {
   "cell_type": "markdown",
   "metadata": {},
   "source": [
    "- As we can see with the above discrepancy in coverage between the train and test sets, our recommender is converging on a few top performers in the train set but is more dispersed in the test set. We will test this hypothesis below by checking how often, on a percentage basis, the top movies were recommended in each case. \n",
    "- With the lower coverage, we would expect that the top recommendations are recommended more often in the train set."
   ]
  },
  {
   "cell_type": "code",
   "execution_count": 77,
   "metadata": {
    "scrolled": false
   },
   "outputs": [],
   "source": [
    "train_counter = pd.DataFrame(Counter([item for sublist in  recommendation_train for item in sublist]).most_common(),columns=['movie_id','count'])\n",
    "train_counter['pct_recommended'] = train_counter['count']/len(recommendation_train)\n",
    "test_counter = pd.DataFrame(Counter([item for sublist in  recommendation_test for item in sublist]).most_common(),columns=['movie_id','count'])\n",
    "test_counter['pct_recommended'] = test_counter['count']/len(recommendation_test)"
   ]
  },
  {
   "cell_type": "code",
   "execution_count": 80,
   "metadata": {},
   "outputs": [
    {
     "data": {
      "text/html": [
       "<div>\n",
       "<style scoped>\n",
       "    .dataframe tbody tr th:only-of-type {\n",
       "        vertical-align: middle;\n",
       "    }\n",
       "\n",
       "    .dataframe tbody tr th {\n",
       "        vertical-align: top;\n",
       "    }\n",
       "\n",
       "    .dataframe thead th {\n",
       "        text-align: right;\n",
       "    }\n",
       "</style>\n",
       "<table border=\"1\" class=\"dataframe\">\n",
       "  <thead>\n",
       "    <tr style=\"text-align: right;\">\n",
       "      <th></th>\n",
       "      <th>title</th>\n",
       "      <th>count</th>\n",
       "      <th>pct_recommended</th>\n",
       "    </tr>\n",
       "  </thead>\n",
       "  <tbody>\n",
       "    <tr>\n",
       "      <th>0</th>\n",
       "      <td>Toy Story (1995)</td>\n",
       "      <td>418</td>\n",
       "      <td>0.286301</td>\n",
       "    </tr>\n",
       "    <tr>\n",
       "      <th>1</th>\n",
       "      <td>Jumanji (1995)</td>\n",
       "      <td>270</td>\n",
       "      <td>0.184932</td>\n",
       "    </tr>\n",
       "    <tr>\n",
       "      <th>2</th>\n",
       "      <td>Grumpier Old Men (1995)</td>\n",
       "      <td>155</td>\n",
       "      <td>0.106164</td>\n",
       "    </tr>\n",
       "    <tr>\n",
       "      <th>3</th>\n",
       "      <td>Waiting to Exhale (1995)</td>\n",
       "      <td>87</td>\n",
       "      <td>0.059589</td>\n",
       "    </tr>\n",
       "    <tr>\n",
       "      <th>4</th>\n",
       "      <td>Father of the Bride Part II (1995)</td>\n",
       "      <td>86</td>\n",
       "      <td>0.058904</td>\n",
       "    </tr>\n",
       "  </tbody>\n",
       "</table>\n",
       "</div>"
      ],
      "text/plain": [
       "                                title  count  pct_recommended\n",
       "0                    Toy Story (1995)    418         0.286301\n",
       "1                      Jumanji (1995)    270         0.184932\n",
       "2             Grumpier Old Men (1995)    155         0.106164\n",
       "3            Waiting to Exhale (1995)     87         0.059589\n",
       "4  Father of the Bride Part II (1995)     86         0.058904"
      ]
     },
     "execution_count": 80,
     "metadata": {},
     "output_type": "execute_result"
    }
   ],
   "source": [
    "train_counter.join(movies).head()[['title','count','pct_recommended']]"
   ]
  },
  {
   "cell_type": "code",
   "execution_count": 81,
   "metadata": {
    "scrolled": true
   },
   "outputs": [
    {
     "data": {
      "text/html": [
       "<div>\n",
       "<style scoped>\n",
       "    .dataframe tbody tr th:only-of-type {\n",
       "        vertical-align: middle;\n",
       "    }\n",
       "\n",
       "    .dataframe tbody tr th {\n",
       "        vertical-align: top;\n",
       "    }\n",
       "\n",
       "    .dataframe thead th {\n",
       "        text-align: right;\n",
       "    }\n",
       "</style>\n",
       "<table border=\"1\" class=\"dataframe\">\n",
       "  <thead>\n",
       "    <tr style=\"text-align: right;\">\n",
       "      <th></th>\n",
       "      <th>title</th>\n",
       "      <th>count</th>\n",
       "      <th>pct_recommended</th>\n",
       "    </tr>\n",
       "  </thead>\n",
       "  <tbody>\n",
       "    <tr>\n",
       "      <th>0</th>\n",
       "      <td>Toy Story (1995)</td>\n",
       "      <td>186</td>\n",
       "      <td>0.198930</td>\n",
       "    </tr>\n",
       "    <tr>\n",
       "      <th>1</th>\n",
       "      <td>Jumanji (1995)</td>\n",
       "      <td>58</td>\n",
       "      <td>0.062032</td>\n",
       "    </tr>\n",
       "    <tr>\n",
       "      <th>2</th>\n",
       "      <td>Grumpier Old Men (1995)</td>\n",
       "      <td>37</td>\n",
       "      <td>0.039572</td>\n",
       "    </tr>\n",
       "    <tr>\n",
       "      <th>3</th>\n",
       "      <td>Waiting to Exhale (1995)</td>\n",
       "      <td>36</td>\n",
       "      <td>0.038503</td>\n",
       "    </tr>\n",
       "    <tr>\n",
       "      <th>4</th>\n",
       "      <td>Father of the Bride Part II (1995)</td>\n",
       "      <td>29</td>\n",
       "      <td>0.031016</td>\n",
       "    </tr>\n",
       "  </tbody>\n",
       "</table>\n",
       "</div>"
      ],
      "text/plain": [
       "                                title  count  pct_recommended\n",
       "0                    Toy Story (1995)    186         0.198930\n",
       "1                      Jumanji (1995)     58         0.062032\n",
       "2             Grumpier Old Men (1995)     37         0.039572\n",
       "3            Waiting to Exhale (1995)     36         0.038503\n",
       "4  Father of the Bride Part II (1995)     29         0.031016"
      ]
     },
     "execution_count": 81,
     "metadata": {},
     "output_type": "execute_result"
    }
   ],
   "source": [
    "test_counter.join(movies).head()[['title','count','pct_recommended']]"
   ]
  },
  {
   "cell_type": "markdown",
   "metadata": {},
   "source": [
    "- Our hypothesis is confirmed, we see that the test case recommended the most popular title (Toy Story) 19.89% of the time , while the train set was recommended it over 28.6% of the time. \n",
    "- The discrepancy is driven by the 'richer rich' effect of the top performers nabbing the n=1 top spot.\n",
    "- The next hypothesis will be to increase n to 5 and we will ideally see higher coverage in both sets, and *relative* closer parity between coverages. "
   ]
  },
  {
   "cell_type": "code",
   "execution_count": 82,
   "metadata": {},
   "outputs": [
    {
     "name": "stdout",
     "output_type": "stream",
     "text": [
      "coverage on train set 0.65\n",
      "coverage on test set 0.97\n"
     ]
    }
   ],
   "source": [
    "predictions_train = item_model.test(trainvalset_testfy)\n",
    "predictions_test = item_model.test(testset)\n",
    "\n",
    "#new hypothesis n=5\n",
    "top_n_train = get_top_n(predictions_train, n=5)\n",
    "top_n_test = get_top_n(predictions_test, n=5)\n",
    "\n",
    "recommendation_train = []\n",
    "# Print the recommended items for each user\n",
    "for uid, user_ratings in top_n_train.items():\n",
    "    recommendation_train.append([iid for (iid, _) in user_ratings])\n",
    "    \n",
    "recommendation_train_list = []\n",
    "for rec_list in recommendation_train:\n",
    "    for item in rec_list:\n",
    "        recommendation_train_list.append(item)\n",
    "recommendation_train_list = set(recommendation_train_list)\n",
    "\n",
    "recommendation_test = []\n",
    "# Print the recommended items for each user\n",
    "for uid, user_ratings in top_n_test.items():\n",
    "    recommendation_test.append([iid for (iid, _) in user_ratings])\n",
    "\n",
    "recommendation_test_list = []\n",
    "for rec_list in recommendation_test:\n",
    "    for item in rec_list:\n",
    "        recommendation_test_list.append(item)\n",
    "recommendation_test_list = set(recommendation_test_list)\n",
    "\n",
    "print('coverage on train set', '{:.2f}'.format(len(recommendation_train_list)/len(item_list_train)))\n",
    "print('coverage on test set', '{:.2f}'.format(len(recommendation_test_list)/len(item_list_test)))"
   ]
  },
  {
   "cell_type": "code",
   "execution_count": 83,
   "metadata": {},
   "outputs": [],
   "source": [
    "train_counter = pd.DataFrame(Counter([item for sublist in  recommendation_train for item in sublist]).most_common(),columns=['movie_id','count'])\n",
    "train_counter['pct_recommended'] = train_counter['count']/len(recommendation_train)\n",
    "test_counter = pd.DataFrame(Counter([item for sublist in  recommendation_test for item in sublist]).most_common(),columns=['movie_id','count'])\n",
    "test_counter['pct_recommended'] = test_counter['count']/len(recommendation_test)"
   ]
  },
  {
   "cell_type": "code",
   "execution_count": 84,
   "metadata": {},
   "outputs": [
    {
     "data": {
      "text/html": [
       "<div>\n",
       "<style scoped>\n",
       "    .dataframe tbody tr th:only-of-type {\n",
       "        vertical-align: middle;\n",
       "    }\n",
       "\n",
       "    .dataframe tbody tr th {\n",
       "        vertical-align: top;\n",
       "    }\n",
       "\n",
       "    .dataframe thead th {\n",
       "        text-align: right;\n",
       "    }\n",
       "</style>\n",
       "<table border=\"1\" class=\"dataframe\">\n",
       "  <thead>\n",
       "    <tr style=\"text-align: right;\">\n",
       "      <th></th>\n",
       "      <th>title</th>\n",
       "      <th>count</th>\n",
       "      <th>pct_recommended</th>\n",
       "    </tr>\n",
       "  </thead>\n",
       "  <tbody>\n",
       "    <tr>\n",
       "      <th>0</th>\n",
       "      <td>Toy Story (1995)</td>\n",
       "      <td>769</td>\n",
       "      <td>0.526712</td>\n",
       "    </tr>\n",
       "    <tr>\n",
       "      <th>1</th>\n",
       "      <td>Jumanji (1995)</td>\n",
       "      <td>767</td>\n",
       "      <td>0.525342</td>\n",
       "    </tr>\n",
       "    <tr>\n",
       "      <th>2</th>\n",
       "      <td>Grumpier Old Men (1995)</td>\n",
       "      <td>669</td>\n",
       "      <td>0.458219</td>\n",
       "    </tr>\n",
       "    <tr>\n",
       "      <th>3</th>\n",
       "      <td>Waiting to Exhale (1995)</td>\n",
       "      <td>592</td>\n",
       "      <td>0.405479</td>\n",
       "    </tr>\n",
       "    <tr>\n",
       "      <th>4</th>\n",
       "      <td>Father of the Bride Part II (1995)</td>\n",
       "      <td>454</td>\n",
       "      <td>0.310959</td>\n",
       "    </tr>\n",
       "  </tbody>\n",
       "</table>\n",
       "</div>"
      ],
      "text/plain": [
       "                                title  count  pct_recommended\n",
       "0                    Toy Story (1995)    769         0.526712\n",
       "1                      Jumanji (1995)    767         0.525342\n",
       "2             Grumpier Old Men (1995)    669         0.458219\n",
       "3            Waiting to Exhale (1995)    592         0.405479\n",
       "4  Father of the Bride Part II (1995)    454         0.310959"
      ]
     },
     "execution_count": 84,
     "metadata": {},
     "output_type": "execute_result"
    }
   ],
   "source": [
    "train_counter.join(movies).head()[['title','count','pct_recommended']]"
   ]
  },
  {
   "cell_type": "code",
   "execution_count": 85,
   "metadata": {},
   "outputs": [
    {
     "data": {
      "text/html": [
       "<div>\n",
       "<style scoped>\n",
       "    .dataframe tbody tr th:only-of-type {\n",
       "        vertical-align: middle;\n",
       "    }\n",
       "\n",
       "    .dataframe tbody tr th {\n",
       "        vertical-align: top;\n",
       "    }\n",
       "\n",
       "    .dataframe thead th {\n",
       "        text-align: right;\n",
       "    }\n",
       "</style>\n",
       "<table border=\"1\" class=\"dataframe\">\n",
       "  <thead>\n",
       "    <tr style=\"text-align: right;\">\n",
       "      <th></th>\n",
       "      <th>title</th>\n",
       "      <th>count</th>\n",
       "      <th>pct_recommended</th>\n",
       "    </tr>\n",
       "  </thead>\n",
       "  <tbody>\n",
       "    <tr>\n",
       "      <th>0</th>\n",
       "      <td>Toy Story (1995)</td>\n",
       "      <td>213</td>\n",
       "      <td>0.227807</td>\n",
       "    </tr>\n",
       "    <tr>\n",
       "      <th>1</th>\n",
       "      <td>Jumanji (1995)</td>\n",
       "      <td>81</td>\n",
       "      <td>0.086631</td>\n",
       "    </tr>\n",
       "    <tr>\n",
       "      <th>2</th>\n",
       "      <td>Grumpier Old Men (1995)</td>\n",
       "      <td>79</td>\n",
       "      <td>0.084492</td>\n",
       "    </tr>\n",
       "    <tr>\n",
       "      <th>3</th>\n",
       "      <td>Waiting to Exhale (1995)</td>\n",
       "      <td>65</td>\n",
       "      <td>0.069519</td>\n",
       "    </tr>\n",
       "    <tr>\n",
       "      <th>4</th>\n",
       "      <td>Father of the Bride Part II (1995)</td>\n",
       "      <td>59</td>\n",
       "      <td>0.063102</td>\n",
       "    </tr>\n",
       "  </tbody>\n",
       "</table>\n",
       "</div>"
      ],
      "text/plain": [
       "                                title  count  pct_recommended\n",
       "0                    Toy Story (1995)    213         0.227807\n",
       "1                      Jumanji (1995)     81         0.086631\n",
       "2             Grumpier Old Men (1995)     79         0.084492\n",
       "3            Waiting to Exhale (1995)     65         0.069519\n",
       "4  Father of the Bride Part II (1995)     59         0.063102"
      ]
     },
     "execution_count": 85,
     "metadata": {},
     "output_type": "execute_result"
    }
   ],
   "source": [
    "test_counter.join(movies).head()[['title','count','pct_recommended']]"
   ]
  },
  {
   "cell_type": "markdown",
   "metadata": {},
   "source": [
    "**Explanation:**\n",
    "\n",
    "- The disparity between train and test speaks to potential overfitting of this model, higher coverage is desirable but is likely being seen in this case because the model is much more unsure of what it is meant to recommend on unseen users.\n",
    "\n",
    "- While there is potentially a degree of overfitting, we are encouraged by the fact that the same top performaers are recommended in each case and in the same order, just with varying frequencies. \n",
    "\n",
    "- The best remedy for this is to either regularize the model and penalize convergence in the train set more, but this is sub-optimal in practice. We would much rather see more user data to enrich the model further by adding more features, rather than penalize the model for high bias low variance. "
   ]
  },
  {
   "cell_type": "markdown",
   "metadata": {},
   "source": [
    "### Part 3.2.1: CV setup for Matrix Factorization"
   ]
  },
  {
   "cell_type": "code",
   "execution_count": 82,
   "metadata": {},
   "outputs": [
    {
     "name": "stdout",
     "output_type": "stream",
     "text": [
      "Evaluating RMSE, MAE of algorithm NMF on 5 split(s).\n",
      "\n",
      "                  Fold 1  Fold 2  Fold 3  Fold 4  Fold 5  Mean    Std     \n",
      "RMSE (testset)    1.1466  1.1935  1.2727  1.1738  1.1380  1.1849  0.0481  \n",
      "MAE (testset)     0.8672  0.9039  0.9661  0.8884  0.8603  0.8972  0.0378  \n",
      "RMSE (trainset)   1.1337  1.1863  1.2443  1.1647  1.1252  1.1708  0.0427  \n",
      "MAE (trainset)    0.8506  0.8934  0.9413  0.8767  0.8494  0.8823  0.0338  \n",
      "Fit time          3.66    3.72    3.50    3.45    3.49    3.56    0.11    \n",
      "Test time         0.41    0.42    0.38    0.96    1.02    0.64    0.29    \n"
     ]
    }
   ],
   "source": [
    "# Run 5-fold cross-validation and print results\n",
    "result = cross_validate(NMF_model, \n",
    "                        data_full, \n",
    "                        measures=['RMSE', 'MAE'], \n",
    "                        cv=5, \n",
    "                        return_train_measures=True,\n",
    "                        verbose=True);"
   ]
  },
  {
   "cell_type": "markdown",
   "metadata": {},
   "source": [
    "The results above give an preliminary review of how well the model fits the training set as well as how well the model generalizes on the test set. According to the results above, the **average testset RMSE is 1.185** and the **average testset MAE is 0.897**."
   ]
  },
  {
   "cell_type": "markdown",
   "metadata": {},
   "source": [
    "### Part 3.2.2: Coverage of Matrix Factorization"
   ]
  },
  {
   "cell_type": "code",
   "execution_count": 86,
   "metadata": {},
   "outputs": [],
   "source": [
    "NMF_model.fit(trainvalset);"
   ]
  },
  {
   "cell_type": "code",
   "execution_count": 87,
   "metadata": {},
   "outputs": [],
   "source": [
    "predictions_train = NMF_model.test(trainvalset_testfy)\n",
    "predictions_test = NMF_model.test(testset)\n",
    "\n",
    "top_n_train = get_top_n(predictions_train, n=1)\n",
    "top_n_test = get_top_n(predictions_test, n=1)"
   ]
  },
  {
   "cell_type": "code",
   "execution_count": 88,
   "metadata": {},
   "outputs": [],
   "source": [
    "recommendation_train = []\n",
    "# Print the recommended items for each user\n",
    "for uid, user_ratings in top_n_train.items():\n",
    "    recommendation_train.append([iid for (iid, _) in user_ratings])\n",
    "    \n",
    "recommendation_train_list = []\n",
    "for rec_list in recommendation_train:\n",
    "    for item in rec_list:\n",
    "        recommendation_train_list.append(item)\n",
    "recommendation_train_list = set(recommendation_train_list)"
   ]
  },
  {
   "cell_type": "code",
   "execution_count": 89,
   "metadata": {},
   "outputs": [],
   "source": [
    "recommendation_test = []\n",
    "# Print the recommended items for each user\n",
    "for uid, user_ratings in top_n_test.items():\n",
    "    recommendation_test.append([iid for (iid, _) in user_ratings])\n",
    "    \n",
    "recommendation_test_list = []\n",
    "for rec_list in recommendation_test:\n",
    "    for item in rec_list:\n",
    "        recommendation_test_list.append(item)\n",
    "recommendation_test_list = set(recommendation_test_list)"
   ]
  },
  {
   "cell_type": "code",
   "execution_count": 90,
   "metadata": {},
   "outputs": [
    {
     "name": "stdout",
     "output_type": "stream",
     "text": [
      "coverage on train set 0.13\n",
      "coverage on test set 0.74\n"
     ]
    }
   ],
   "source": [
    "print('coverage on train set', '{:.2f}'.format(len(recommendation_train_list)/len(item_list_train)))\n",
    "print('coverage on test set', '{:.2f}'.format(len(recommendation_test_list)/len(item_list_test)))"
   ]
  },
  {
   "cell_type": "code",
   "execution_count": 91,
   "metadata": {},
   "outputs": [],
   "source": [
    "train_counter = pd.DataFrame(Counter([item for sublist in  recommendation_train for item in sublist]).most_common(),columns=['movie_id','count'])\n",
    "train_counter['pct_recommended'] = train_counter['count']/len(recommendation_train)\n",
    "test_counter = pd.DataFrame(Counter([item for sublist in  recommendation_test for item in sublist]).most_common(),columns=['movie_id','count'])\n",
    "test_counter['pct_recommended'] = test_counter['count']/len(recommendation_test)"
   ]
  },
  {
   "cell_type": "code",
   "execution_count": 92,
   "metadata": {},
   "outputs": [
    {
     "data": {
      "text/html": [
       "<div>\n",
       "<style scoped>\n",
       "    .dataframe tbody tr th:only-of-type {\n",
       "        vertical-align: middle;\n",
       "    }\n",
       "\n",
       "    .dataframe tbody tr th {\n",
       "        vertical-align: top;\n",
       "    }\n",
       "\n",
       "    .dataframe thead th {\n",
       "        text-align: right;\n",
       "    }\n",
       "</style>\n",
       "<table border=\"1\" class=\"dataframe\">\n",
       "  <thead>\n",
       "    <tr style=\"text-align: right;\">\n",
       "      <th></th>\n",
       "      <th>title</th>\n",
       "      <th>count</th>\n",
       "      <th>pct_recommended</th>\n",
       "    </tr>\n",
       "  </thead>\n",
       "  <tbody>\n",
       "    <tr>\n",
       "      <th>0</th>\n",
       "      <td>Toy Story (1995)</td>\n",
       "      <td>1097</td>\n",
       "      <td>0.751370</td>\n",
       "    </tr>\n",
       "    <tr>\n",
       "      <th>1</th>\n",
       "      <td>Jumanji (1995)</td>\n",
       "      <td>125</td>\n",
       "      <td>0.085616</td>\n",
       "    </tr>\n",
       "    <tr>\n",
       "      <th>2</th>\n",
       "      <td>Grumpier Old Men (1995)</td>\n",
       "      <td>42</td>\n",
       "      <td>0.028767</td>\n",
       "    </tr>\n",
       "    <tr>\n",
       "      <th>3</th>\n",
       "      <td>Waiting to Exhale (1995)</td>\n",
       "      <td>30</td>\n",
       "      <td>0.020548</td>\n",
       "    </tr>\n",
       "    <tr>\n",
       "      <th>4</th>\n",
       "      <td>Father of the Bride Part II (1995)</td>\n",
       "      <td>29</td>\n",
       "      <td>0.019863</td>\n",
       "    </tr>\n",
       "  </tbody>\n",
       "</table>\n",
       "</div>"
      ],
      "text/plain": [
       "                                title  count  pct_recommended\n",
       "0                    Toy Story (1995)   1097         0.751370\n",
       "1                      Jumanji (1995)    125         0.085616\n",
       "2             Grumpier Old Men (1995)     42         0.028767\n",
       "3            Waiting to Exhale (1995)     30         0.020548\n",
       "4  Father of the Bride Part II (1995)     29         0.019863"
      ]
     },
     "execution_count": 92,
     "metadata": {},
     "output_type": "execute_result"
    }
   ],
   "source": [
    "train_counter.join(movies).head()[['title','count','pct_recommended']]"
   ]
  },
  {
   "cell_type": "code",
   "execution_count": 93,
   "metadata": {},
   "outputs": [
    {
     "data": {
      "text/html": [
       "<div>\n",
       "<style scoped>\n",
       "    .dataframe tbody tr th:only-of-type {\n",
       "        vertical-align: middle;\n",
       "    }\n",
       "\n",
       "    .dataframe tbody tr th {\n",
       "        vertical-align: top;\n",
       "    }\n",
       "\n",
       "    .dataframe thead th {\n",
       "        text-align: right;\n",
       "    }\n",
       "</style>\n",
       "<table border=\"1\" class=\"dataframe\">\n",
       "  <thead>\n",
       "    <tr style=\"text-align: right;\">\n",
       "      <th></th>\n",
       "      <th>title</th>\n",
       "      <th>count</th>\n",
       "      <th>pct_recommended</th>\n",
       "    </tr>\n",
       "  </thead>\n",
       "  <tbody>\n",
       "    <tr>\n",
       "      <th>0</th>\n",
       "      <td>Toy Story (1995)</td>\n",
       "      <td>189</td>\n",
       "      <td>0.202139</td>\n",
       "    </tr>\n",
       "    <tr>\n",
       "      <th>1</th>\n",
       "      <td>Jumanji (1995)</td>\n",
       "      <td>61</td>\n",
       "      <td>0.065241</td>\n",
       "    </tr>\n",
       "    <tr>\n",
       "      <th>2</th>\n",
       "      <td>Grumpier Old Men (1995)</td>\n",
       "      <td>39</td>\n",
       "      <td>0.041711</td>\n",
       "    </tr>\n",
       "    <tr>\n",
       "      <th>3</th>\n",
       "      <td>Waiting to Exhale (1995)</td>\n",
       "      <td>36</td>\n",
       "      <td>0.038503</td>\n",
       "    </tr>\n",
       "    <tr>\n",
       "      <th>4</th>\n",
       "      <td>Father of the Bride Part II (1995)</td>\n",
       "      <td>29</td>\n",
       "      <td>0.031016</td>\n",
       "    </tr>\n",
       "  </tbody>\n",
       "</table>\n",
       "</div>"
      ],
      "text/plain": [
       "                                title  count  pct_recommended\n",
       "0                    Toy Story (1995)    189         0.202139\n",
       "1                      Jumanji (1995)     61         0.065241\n",
       "2             Grumpier Old Men (1995)     39         0.041711\n",
       "3            Waiting to Exhale (1995)     36         0.038503\n",
       "4  Father of the Bride Part II (1995)     29         0.031016"
      ]
     },
     "execution_count": 93,
     "metadata": {},
     "output_type": "execute_result"
    }
   ],
   "source": [
    "test_counter.join(movies).head()[['title','count','pct_recommended']]"
   ]
  },
  {
   "cell_type": "markdown",
   "metadata": {},
   "source": [
    "- Here we see we have much the same effect as with matrix factorization as we do with kNN. Higher coverage on test than train, and concentration among top performers in train. \n",
    "\n",
    "- Below we run the same experiment, increasing n to 5:"
   ]
  },
  {
   "cell_type": "code",
   "execution_count": 95,
   "metadata": {},
   "outputs": [
    {
     "name": "stdout",
     "output_type": "stream",
     "text": [
      "coverage on train set 0.26\n",
      "coverage on test set 0.97\n"
     ]
    }
   ],
   "source": [
    "top_n_train = get_top_n(predictions_train, n=5)\n",
    "top_n_test = get_top_n(predictions_test, n=5)\n",
    "\n",
    "recommendation_train = []\n",
    "# Print the recommended items for each user\n",
    "for uid, user_ratings in top_n_train.items():\n",
    "    recommendation_train.append([iid for (iid, _) in user_ratings])\n",
    "    \n",
    "recommendation_train_list = []\n",
    "for rec_list in recommendation_train:\n",
    "    for item in rec_list:\n",
    "        recommendation_train_list.append(item)\n",
    "recommendation_train_list = set(recommendation_train_list)\n",
    "\n",
    "recommendation_test = []\n",
    "# Print the recommended items for each user\n",
    "for uid, user_ratings in top_n_test.items():\n",
    "    recommendation_test.append([iid for (iid, _) in user_ratings])\n",
    "    \n",
    "recommendation_test_list = []\n",
    "for rec_list in recommendation_test:\n",
    "    for item in rec_list:\n",
    "        recommendation_test_list.append(item)\n",
    "recommendation_test_list = set(recommendation_test_list)\n",
    "\n",
    "print('coverage on train set', '{:.2f}'.format(len(recommendation_train_list)/len(item_list_train)))\n",
    "print('coverage on test set', '{:.2f}'.format(len(recommendation_test_list)/len(item_list_test)))"
   ]
  },
  {
   "cell_type": "code",
   "execution_count": 96,
   "metadata": {},
   "outputs": [],
   "source": [
    "train_counter = pd.DataFrame(Counter([item for sublist in  recommendation_train for item in sublist]).most_common(),columns=['movie_id','count'])\n",
    "train_counter['pct_recommended'] = train_counter['count']/len(recommendation_train)\n",
    "test_counter = pd.DataFrame(Counter([item for sublist in  recommendation_test for item in sublist]).most_common(),columns=['movie_id','count'])\n",
    "test_counter['pct_recommended'] = test_counter['count']/len(recommendation_test)"
   ]
  },
  {
   "cell_type": "code",
   "execution_count": 97,
   "metadata": {},
   "outputs": [
    {
     "data": {
      "text/html": [
       "<div>\n",
       "<style scoped>\n",
       "    .dataframe tbody tr th:only-of-type {\n",
       "        vertical-align: middle;\n",
       "    }\n",
       "\n",
       "    .dataframe tbody tr th {\n",
       "        vertical-align: top;\n",
       "    }\n",
       "\n",
       "    .dataframe thead th {\n",
       "        text-align: right;\n",
       "    }\n",
       "</style>\n",
       "<table border=\"1\" class=\"dataframe\">\n",
       "  <thead>\n",
       "    <tr style=\"text-align: right;\">\n",
       "      <th></th>\n",
       "      <th>title</th>\n",
       "      <th>count</th>\n",
       "      <th>pct_recommended</th>\n",
       "    </tr>\n",
       "  </thead>\n",
       "  <tbody>\n",
       "    <tr>\n",
       "      <th>0</th>\n",
       "      <td>Toy Story (1995)</td>\n",
       "      <td>1356</td>\n",
       "      <td>0.928767</td>\n",
       "    </tr>\n",
       "    <tr>\n",
       "      <th>1</th>\n",
       "      <td>Jumanji (1995)</td>\n",
       "      <td>1299</td>\n",
       "      <td>0.889726</td>\n",
       "    </tr>\n",
       "    <tr>\n",
       "      <th>2</th>\n",
       "      <td>Grumpier Old Men (1995)</td>\n",
       "      <td>816</td>\n",
       "      <td>0.558904</td>\n",
       "    </tr>\n",
       "    <tr>\n",
       "      <th>3</th>\n",
       "      <td>Waiting to Exhale (1995)</td>\n",
       "      <td>787</td>\n",
       "      <td>0.539041</td>\n",
       "    </tr>\n",
       "    <tr>\n",
       "      <th>4</th>\n",
       "      <td>Father of the Bride Part II (1995)</td>\n",
       "      <td>757</td>\n",
       "      <td>0.518493</td>\n",
       "    </tr>\n",
       "  </tbody>\n",
       "</table>\n",
       "</div>"
      ],
      "text/plain": [
       "                                title  count  pct_recommended\n",
       "0                    Toy Story (1995)   1356         0.928767\n",
       "1                      Jumanji (1995)   1299         0.889726\n",
       "2             Grumpier Old Men (1995)    816         0.558904\n",
       "3            Waiting to Exhale (1995)    787         0.539041\n",
       "4  Father of the Bride Part II (1995)    757         0.518493"
      ]
     },
     "execution_count": 97,
     "metadata": {},
     "output_type": "execute_result"
    }
   ],
   "source": [
    "train_counter.join(movies).head()[['title','count','pct_recommended']]"
   ]
  },
  {
   "cell_type": "code",
   "execution_count": 98,
   "metadata": {},
   "outputs": [
    {
     "data": {
      "text/html": [
       "<div>\n",
       "<style scoped>\n",
       "    .dataframe tbody tr th:only-of-type {\n",
       "        vertical-align: middle;\n",
       "    }\n",
       "\n",
       "    .dataframe tbody tr th {\n",
       "        vertical-align: top;\n",
       "    }\n",
       "\n",
       "    .dataframe thead th {\n",
       "        text-align: right;\n",
       "    }\n",
       "</style>\n",
       "<table border=\"1\" class=\"dataframe\">\n",
       "  <thead>\n",
       "    <tr style=\"text-align: right;\">\n",
       "      <th></th>\n",
       "      <th>title</th>\n",
       "      <th>count</th>\n",
       "      <th>pct_recommended</th>\n",
       "    </tr>\n",
       "  </thead>\n",
       "  <tbody>\n",
       "    <tr>\n",
       "      <th>0</th>\n",
       "      <td>Toy Story (1995)</td>\n",
       "      <td>214</td>\n",
       "      <td>0.228877</td>\n",
       "    </tr>\n",
       "    <tr>\n",
       "      <th>1</th>\n",
       "      <td>Jumanji (1995)</td>\n",
       "      <td>81</td>\n",
       "      <td>0.086631</td>\n",
       "    </tr>\n",
       "    <tr>\n",
       "      <th>2</th>\n",
       "      <td>Grumpier Old Men (1995)</td>\n",
       "      <td>81</td>\n",
       "      <td>0.086631</td>\n",
       "    </tr>\n",
       "    <tr>\n",
       "      <th>3</th>\n",
       "      <td>Waiting to Exhale (1995)</td>\n",
       "      <td>64</td>\n",
       "      <td>0.068449</td>\n",
       "    </tr>\n",
       "    <tr>\n",
       "      <th>4</th>\n",
       "      <td>Father of the Bride Part II (1995)</td>\n",
       "      <td>58</td>\n",
       "      <td>0.062032</td>\n",
       "    </tr>\n",
       "  </tbody>\n",
       "</table>\n",
       "</div>"
      ],
      "text/plain": [
       "                                title  count  pct_recommended\n",
       "0                    Toy Story (1995)    214         0.228877\n",
       "1                      Jumanji (1995)     81         0.086631\n",
       "2             Grumpier Old Men (1995)     81         0.086631\n",
       "3            Waiting to Exhale (1995)     64         0.068449\n",
       "4  Father of the Bride Part II (1995)     58         0.062032"
      ]
     },
     "execution_count": 98,
     "metadata": {},
     "output_type": "execute_result"
    }
   ],
   "source": [
    "test_counter.join(movies).head()[['title','count','pct_recommended']]"
   ]
  },
  {
   "cell_type": "markdown",
   "metadata": {},
   "source": [
    "**Explanation:**\n",
    "\n",
    "- As with kNN, the explanation here is that the model has higher likelihood of recommending a random movie in the test dataset than the train dataset."
   ]
  },
  {
   "cell_type": "markdown",
   "metadata": {},
   "source": [
    "## Part 4: GridSearch"
   ]
  },
  {
   "cell_type": "markdown",
   "metadata": {},
   "source": [
    "### Part 4.1: GS setup for item-based neighborhood method"
   ]
  },
  {
   "cell_type": "code",
   "execution_count": 99,
   "metadata": {},
   "outputs": [],
   "source": [
    "param_grid = {'k': [2, 6, 10, 14, 18, 20, 50, 100]}"
   ]
  },
  {
   "cell_type": "code",
   "execution_count": 100,
   "metadata": {},
   "outputs": [],
   "source": [
    "gs = GridSearchCV(KNNWithMeans, \n",
    "                  param_grid, \n",
    "                  measures=['RMSE', 'MAE'], \n",
    "                  cv=5)"
   ]
  },
  {
   "cell_type": "code",
   "execution_count": 101,
   "metadata": {},
   "outputs": [
    {
     "name": "stdout",
     "output_type": "stream",
     "text": [
      "Computing the msd similarity matrix...\n",
      "Done computing similarity matrix.\n",
      "Computing the msd similarity matrix...\n",
      "Done computing similarity matrix.\n",
      "Computing the msd similarity matrix...\n",
      "Done computing similarity matrix.\n",
      "Computing the msd similarity matrix...\n",
      "Done computing similarity matrix.\n",
      "Computing the msd similarity matrix...\n",
      "Done computing similarity matrix.\n",
      "Computing the msd similarity matrix...\n",
      "Done computing similarity matrix.\n",
      "Computing the msd similarity matrix...\n",
      "Done computing similarity matrix.\n",
      "Computing the msd similarity matrix...\n",
      "Done computing similarity matrix.\n",
      "Computing the msd similarity matrix...\n",
      "Done computing similarity matrix.\n",
      "Computing the msd similarity matrix...\n",
      "Done computing similarity matrix.\n",
      "Computing the msd similarity matrix...\n",
      "Done computing similarity matrix.\n",
      "Computing the msd similarity matrix...\n",
      "Done computing similarity matrix.\n",
      "Computing the msd similarity matrix...\n",
      "Done computing similarity matrix.\n",
      "Computing the msd similarity matrix...\n",
      "Done computing similarity matrix.\n",
      "Computing the msd similarity matrix...\n",
      "Done computing similarity matrix.\n",
      "Computing the msd similarity matrix...\n",
      "Done computing similarity matrix.\n",
      "Computing the msd similarity matrix...\n",
      "Done computing similarity matrix.\n",
      "Computing the msd similarity matrix...\n",
      "Done computing similarity matrix.\n",
      "Computing the msd similarity matrix...\n",
      "Done computing similarity matrix.\n",
      "Computing the msd similarity matrix...\n",
      "Done computing similarity matrix.\n",
      "Computing the msd similarity matrix...\n",
      "Done computing similarity matrix.\n",
      "Computing the msd similarity matrix...\n",
      "Done computing similarity matrix.\n",
      "Computing the msd similarity matrix...\n",
      "Done computing similarity matrix.\n",
      "Computing the msd similarity matrix...\n",
      "Done computing similarity matrix.\n",
      "Computing the msd similarity matrix...\n",
      "Done computing similarity matrix.\n",
      "Computing the msd similarity matrix...\n",
      "Done computing similarity matrix.\n",
      "Computing the msd similarity matrix...\n",
      "Done computing similarity matrix.\n",
      "Computing the msd similarity matrix...\n",
      "Done computing similarity matrix.\n",
      "Computing the msd similarity matrix...\n",
      "Done computing similarity matrix.\n",
      "Computing the msd similarity matrix...\n",
      "Done computing similarity matrix.\n",
      "Computing the msd similarity matrix...\n",
      "Done computing similarity matrix.\n",
      "Computing the msd similarity matrix...\n",
      "Done computing similarity matrix.\n",
      "Computing the msd similarity matrix...\n",
      "Done computing similarity matrix.\n",
      "Computing the msd similarity matrix...\n",
      "Done computing similarity matrix.\n",
      "Computing the msd similarity matrix...\n",
      "Done computing similarity matrix.\n",
      "Computing the msd similarity matrix...\n",
      "Done computing similarity matrix.\n",
      "Computing the msd similarity matrix...\n",
      "Done computing similarity matrix.\n",
      "Computing the msd similarity matrix...\n",
      "Done computing similarity matrix.\n",
      "Computing the msd similarity matrix...\n",
      "Done computing similarity matrix.\n",
      "Computing the msd similarity matrix...\n",
      "Done computing similarity matrix.\n"
     ]
    }
   ],
   "source": [
    "gs.fit(data_sub);"
   ]
  },
  {
   "cell_type": "code",
   "execution_count": 102,
   "metadata": {},
   "outputs": [],
   "source": [
    "results_df = pd.DataFrame.from_dict(gs.cv_results)"
   ]
  },
  {
   "cell_type": "code",
   "execution_count": 103,
   "metadata": {},
   "outputs": [],
   "source": [
    "n_k = results_df['param_k']\n",
    "mae_results = results_df['mean_test_mae']\n",
    "rmse_results = results_df['mean_test_rmse']"
   ]
  },
  {
   "cell_type": "code",
   "execution_count": 104,
   "metadata": {},
   "outputs": [
    {
     "name": "stdout",
     "output_type": "stream",
     "text": [
      "Best RMSE 0.989426\n",
      "BEST MAE 0.756856\n"
     ]
    }
   ],
   "source": [
    "# best RMSE score\n",
    "print('Best RMSE', '{:f}'.format(gs.best_score['rmse']))\n",
    "print('BEST MAE', '{:f}'.format(gs.best_score['mae']))"
   ]
  },
  {
   "cell_type": "code",
   "execution_count": 105,
   "metadata": {},
   "outputs": [
    {
     "data": {
      "image/png": "[encoded data removed]",
      "text/plain": [
       "<Figure size 432x288 with 1 Axes>"
      ]
     },
     "metadata": {
      "needs_background": "light"
     },
     "output_type": "display_data"
    }
   ],
   "source": [
    "fig, ax = plt.subplots()\n",
    "ax.plot(n_k, mae_results, label='mae');\n",
    "ax.plot(n_k, rmse_results, label='rmse');\n",
    "ax.set_title('RMSE/MAE vs number of neighbors')\n",
    "ax.set_xlabel('number of neighbors')\n",
    "ax.set_ylabel('RMSE/MAE')\n",
    "ax.legend();"
   ]
  },
  {
   "cell_type": "markdown",
   "metadata": {},
   "source": [
    "**Explanation:**\n",
    "- As we can see from the results above, as the number of neighbors increases, both of the accuracy measures decrease. This makes sense because as the model considers more items(neighbors) while making predictions, the model becomes more capable of making more accurate predictions.\n",
    "- Although we haven't reached the optimal RMSE/MAE in this grid, we would say the **best number of neighbors is roughly 15**:\n",
    " - We come to the above conclusion taking performance into account, there is a diminishing return on computation power vs incremental improvement in the error term. Depending on the frequency this model will refresh against the amount of time/energy/memory it will take to do so, we think 15 is a reasonable number on these grounds. \n",
    " - Adding more neighbors is not a cure-all either, too few neighbors and you might miss the 'cluster' you're trying to participate in, too many neighbors and you can shift your mean away from a strong-signal cluster with relatively few peers and this can actually increase error on a case-by-case basis but will smooth out the error over the full model. \n",
    "  * Imagine the qualitative neighbors of a movie like *Rocky Horror Picture Show*... there aren't many. So a modest k is ideal here. Setting it exhorbitantly high will approach a utilitarian model of 'the least bad recommendation for the most people' but offers very little of the personalization we are after here.\n",
    " - Thus it is normally recommended to pick a k near the inflection point where the error term levels off. We endorse this notion in our proposal. "
   ]
  },
  {
   "cell_type": "markdown",
   "metadata": {},
   "source": [
    "### Part 4.2: GS setup for Matrix Factorization"
   ]
  },
  {
   "cell_type": "code",
   "execution_count": 106,
   "metadata": {},
   "outputs": [],
   "source": [
    "param_grid = {'n_factors': [10, 30, 50, 70, 90]}"
   ]
  },
  {
   "cell_type": "code",
   "execution_count": 107,
   "metadata": {},
   "outputs": [],
   "source": [
    "gs = GridSearchCV(NMF, \n",
    "                  param_grid, \n",
    "                  measures=['RMSE', 'MAE'], \n",
    "                  cv=5)"
   ]
  },
  {
   "cell_type": "code",
   "execution_count": 108,
   "metadata": {},
   "outputs": [],
   "source": [
    "gs.fit(data_sub)"
   ]
  },
  {
   "cell_type": "code",
   "execution_count": 110,
   "metadata": {},
   "outputs": [],
   "source": [
    "results_df = pd.DataFrame.from_dict(gs.cv_results)"
   ]
  },
  {
   "cell_type": "code",
   "execution_count": 111,
   "metadata": {},
   "outputs": [],
   "source": [
    "n_factors = results_df['param_n_factors']\n",
    "mae_results = results_df['mean_test_mae']\n",
    "rmse_results = results_df['mean_test_rmse']"
   ]
  },
  {
   "cell_type": "code",
   "execution_count": 112,
   "metadata": {},
   "outputs": [
    {
     "name": "stdout",
     "output_type": "stream",
     "text": [
      "Best RMSE 1.018175\n",
      "BEST MAE 0.776286\n"
     ]
    }
   ],
   "source": [
    "# best RMSE score\n",
    "print('Best RMSE', '{:f}'.format(gs.best_score['rmse']))\n",
    "print('BEST MAE', '{:f}'.format(gs.best_score['mae']))"
   ]
  },
  {
   "cell_type": "code",
   "execution_count": 113,
   "metadata": {},
   "outputs": [
    {
     "data": {
      "image/png": "[encoded data removed]",
      "text/plain": [
       "<Figure size 432x288 with 1 Axes>"
      ]
     },
     "metadata": {
      "needs_background": "light"
     },
     "output_type": "display_data"
    }
   ],
   "source": [
    "fig, ax = plt.subplots()\n",
    "ax.plot(n_factors, mae_results, label='mae');\n",
    "ax.plot(n_factors, rmse_results, label='rmse');\n",
    "ax.set_title('RMSE/MAE vs number of latent vectors')\n",
    "ax.set_xlabel('number of latent vectors')\n",
    "ax.set_ylabel('RMSE/MAE')\n",
    "ax.legend();"
   ]
  },
  {
   "cell_type": "markdown",
   "metadata": {},
   "source": [
    "**Explanation:**\n",
    "- As we can see from the results above, as the number of latent vectors increases, both of the accuracy measures decrease. This makes sense because the matrix factorization algorithm re-constructs the true matrix more accurately with higher latent vector size.\n",
    "\n",
    "- **The best size of latent space is 30**"
   ]
  },
  {
   "cell_type": "markdown",
   "metadata": {},
   "source": [
    "## Part 5: Other design"
   ]
  },
  {
   "cell_type": "markdown",
   "metadata": {},
   "source": [
    "There are two key observations arise from the above section:\n",
    "\n",
    "1. Models with higher complexity usually perform better.\n",
    "    - According to the grid-search results, the \"accuracy\" of the models increase as the number of latent vectors/number of neighbors increase. Therefore, if we want to further increase the accuracy of the baseline models built previously, we should definitely construct models with reasonably high complexity.\n",
    "\n",
    "\n",
    "\n",
    "2. The test set's coverage of the more \"accurate\" model is lower.\n",
    "    - The tradeoff with complexity is overfitting. We love accuracy and low error, but we are looking to learn holistic functions about our dataset, not memorize it. There is a significant inflection point around the 30 feature latent space range, hence our decision to parameterize our model on that point. \n",
    " "
   ]
  },
  {
   "cell_type": "markdown",
   "metadata": {},
   "source": [
    "## Part 6: Sample size modification"
   ]
  },
  {
   "cell_type": "markdown",
   "metadata": {},
   "source": [
    "### Part 6.1: 25%"
   ]
  },
  {
   "cell_type": "code",
   "execution_count": 251,
   "metadata": {},
   "outputs": [
    {
     "name": "stdout",
     "output_type": "stream",
     "text": [
      "number of distinct participated users (full):  6370\n",
      "number of distinct rated movies (full):  250\n"
     ]
    }
   ],
   "source": [
    "ratings_25 = sample_dateset_by_percentile(ratings, 8000, 250)\n",
    "print(\"number of distinct participated users (full): \", ratings_25['userId'].nunique())\n",
    "print(\"number of distinct rated movies (full): \", ratings_25['movieId'].nunique())"
   ]
  },
  {
   "cell_type": "code",
   "execution_count": 252,
   "metadata": {},
   "outputs": [],
   "source": [
    "reader = Reader()\n",
    "data_25 = Dataset.load_from_df(ratings_25[['userId', \n",
    "                                           'movieId', \n",
    "                                           'rating']], \n",
    "                               reader=reader)"
   ]
  },
  {
   "cell_type": "markdown",
   "metadata": {},
   "source": [
    "**rebuild the model using the best paramter**"
   ]
  },
  {
   "cell_type": "code",
   "execution_count": 253,
   "metadata": {},
   "outputs": [],
   "source": [
    "# rebuild the model using the best paramter\n",
    "item_model = KNNWithMeans(k=15, \n",
    "                          sim_options={'name': 'pearson', \n",
    "                                       'user_based': False, \n",
    "                                       'verbose' : False})"
   ]
  },
  {
   "cell_type": "code",
   "execution_count": 254,
   "metadata": {},
   "outputs": [],
   "source": [
    "# rebuild the model using the best paramter\n",
    "NMF_model = NMF(n_factors=30, \n",
    "                n_epochs=10, \n",
    "                biased=True)"
   ]
  },
  {
   "cell_type": "markdown",
   "metadata": {},
   "source": [
    "### Part 6.1.1: Performance of item-based neighborhood method at 25% sampling size"
   ]
  },
  {
   "cell_type": "code",
   "execution_count": 255,
   "metadata": {},
   "outputs": [
    {
     "name": "stdout",
     "output_type": "stream",
     "text": [
      "Computing the pearson similarity matrix...\n",
      "Done computing similarity matrix.\n",
      "Computing the pearson similarity matrix...\n",
      "Done computing similarity matrix.\n",
      "Computing the pearson similarity matrix...\n",
      "Done computing similarity matrix.\n",
      "Computing the pearson similarity matrix...\n",
      "Done computing similarity matrix.\n",
      "Computing the pearson similarity matrix...\n",
      "Done computing similarity matrix.\n",
      "Evaluating RMSE, MAE of algorithm KNNWithMeans on 5 split(s).\n",
      "\n",
      "                  Fold 1  Fold 2  Fold 3  Fold 4  Fold 5  Mean    Std     \n",
      "RMSE (testset)    1.0098  0.9871  1.0034  0.9861  1.0016  0.9976  0.0094  \n",
      "MAE (testset)     0.7628  0.7410  0.7533  0.7461  0.7591  0.7525  0.0081  \n",
      "RMSE (trainset)   0.4358  0.4384  0.4313  0.4353  0.4353  0.4352  0.0023  \n",
      "MAE (trainset)    0.3048  0.3062  0.3011  0.3043  0.3043  0.3041  0.0017  \n",
      "Fit time          0.04    0.05    0.05    0.05    0.05    0.05    0.00    \n",
      "Test time         0.14    0.13    0.13    0.13    0.14    0.13    0.00    \n"
     ]
    }
   ],
   "source": [
    "result = cross_validate(item_model, \n",
    "                        data_25, \n",
    "                        measures=['RMSE', 'MAE'], \n",
    "                        cv=5, \n",
    "                        return_train_measures=True,\n",
    "                        verbose=True);"
   ]
  },
  {
   "cell_type": "code",
   "execution_count": 256,
   "metadata": {},
   "outputs": [],
   "source": [
    "item_model_25_fit_time = np.sum(result['fit_time'])/len(result['fit_time'])\n",
    "item_model_25_test_time = np.sum(result['test_time'])/len(result['test_time'])"
   ]
  },
  {
   "cell_type": "code",
   "execution_count": 257,
   "metadata": {},
   "outputs": [],
   "source": [
    "item_model_25_rmse = np.sum(result['test_rmse'])/len(result['test_rmse'])\n",
    "item_model_25_mae = np.sum(result['test_mae'])/len(result['test_mae'])"
   ]
  },
  {
   "cell_type": "markdown",
   "metadata": {},
   "source": [
    "### Part 6.1.2: Performance of Matrix Factroization at 25% sampling size"
   ]
  },
  {
   "cell_type": "code",
   "execution_count": 258,
   "metadata": {},
   "outputs": [
    {
     "name": "stdout",
     "output_type": "stream",
     "text": [
      "Evaluating RMSE, MAE of algorithm NMF on 5 split(s).\n",
      "\n",
      "                  Fold 1  Fold 2  Fold 3  Fold 4  Fold 5  Mean    Std     \n",
      "RMSE (testset)    1.4285  1.4861  1.4817  1.3912  1.3343  1.4244  0.0571  \n",
      "MAE (testset)     1.1089  1.1827  1.1454  1.0807  1.0218  1.1079  0.0551  \n",
      "RMSE (trainset)   1.4141  1.4923  1.4808  1.3792  1.3360  1.4205  0.0595  \n",
      "MAE (trainset)    1.0872  1.1681  1.1423  1.0563  1.0253  1.0958  0.0529  \n",
      "Fit time          0.63    0.62    0.59    0.58    0.57    0.60    0.02    \n",
      "Test time         0.04    0.04    0.04    0.04    0.04    0.04    0.00    \n"
     ]
    }
   ],
   "source": [
    "result = cross_validate(NMF_model, \n",
    "                        data_25, \n",
    "                        measures=['RMSE', 'MAE'], \n",
    "                        cv=5, \n",
    "                        return_train_measures=True,\n",
    "                        verbose=True);"
   ]
  },
  {
   "cell_type": "code",
   "execution_count": 259,
   "metadata": {},
   "outputs": [],
   "source": [
    "NMF_model_25_fit_time = np.sum(result['fit_time'])/len(result['fit_time'])\n",
    "NMF_model_25_test_time = np.sum(result['test_time'])/len(result['test_time'])"
   ]
  },
  {
   "cell_type": "code",
   "execution_count": 260,
   "metadata": {},
   "outputs": [],
   "source": [
    "NMF_model_25_rmse = np.sum(result['test_rmse'])/len(result['test_rmse'])\n",
    "NMF_model_25_mae = np.sum(result['test_mae'])/len(result['test_mae'])"
   ]
  },
  {
   "cell_type": "markdown",
   "metadata": {},
   "source": [
    "### Part 6.2: 50%"
   ]
  },
  {
   "cell_type": "code",
   "execution_count": 261,
   "metadata": {},
   "outputs": [
    {
     "name": "stdout",
     "output_type": "stream",
     "text": [
      "number of distinct participated users (full):  12131\n",
      "number of distinct rated movies (full):  500\n"
     ]
    }
   ],
   "source": [
    "ratings_50 = sample_dateset_by_percentile(ratings, 13000, 500)\n",
    "print(\"number of distinct participated users (full): \", ratings_50['userId'].nunique())\n",
    "print(\"number of distinct rated movies (full): \", ratings_50['movieId'].nunique())"
   ]
  },
  {
   "cell_type": "code",
   "execution_count": 262,
   "metadata": {},
   "outputs": [],
   "source": [
    "reader = Reader()\n",
    "data_50 = Dataset.load_from_df(ratings_50[['userId', \n",
    "                                           'movieId', \n",
    "                                           'rating']], \n",
    "                               reader=reader)"
   ]
  },
  {
   "cell_type": "markdown",
   "metadata": {},
   "source": [
    "### Part 6.2.1: Performance of item-based neighborhood method at 50% sampling size"
   ]
  },
  {
   "cell_type": "code",
   "execution_count": 263,
   "metadata": {},
   "outputs": [
    {
     "name": "stdout",
     "output_type": "stream",
     "text": [
      "Computing the pearson similarity matrix...\n",
      "Done computing similarity matrix.\n",
      "Computing the pearson similarity matrix...\n",
      "Done computing similarity matrix.\n",
      "Computing the pearson similarity matrix...\n",
      "Done computing similarity matrix.\n",
      "Computing the pearson similarity matrix...\n",
      "Done computing similarity matrix.\n",
      "Computing the pearson similarity matrix...\n",
      "Done computing similarity matrix.\n",
      "Evaluating RMSE, MAE of algorithm KNNWithMeans on 5 split(s).\n",
      "\n",
      "                  Fold 1  Fold 2  Fold 3  Fold 4  Fold 5  Mean    Std     \n",
      "RMSE (testset)    0.9298  0.9294  0.9343  0.9281  0.9417  0.9326  0.0050  \n",
      "MAE (testset)     0.7072  0.7033  0.7084  0.7025  0.7159  0.7075  0.0048  \n",
      "RMSE (trainset)   0.4893  0.4942  0.4944  0.4900  0.4921  0.4920  0.0021  \n",
      "MAE (trainset)    0.3584  0.3620  0.3620  0.3592  0.3608  0.3605  0.0015  \n",
      "Fit time          0.19    0.23    0.22    0.21    0.22    0.22    0.01    \n",
      "Test time         1.23    0.66    0.65    0.63    0.64    0.76    0.23    \n"
     ]
    }
   ],
   "source": [
    "result = cross_validate(item_model, \n",
    "                        data_50, \n",
    "                        measures=['RMSE', 'MAE'], \n",
    "                        cv=5, \n",
    "                        return_train_measures=True,\n",
    "                        verbose=True);"
   ]
  },
  {
   "cell_type": "code",
   "execution_count": 264,
   "metadata": {},
   "outputs": [],
   "source": [
    "item_model_50_fit_time = np.sum(result['fit_time'])/len(result['fit_time'])\n",
    "item_model_50_test_time = np.sum(result['test_time'])/len(result['test_time'])"
   ]
  },
  {
   "cell_type": "code",
   "execution_count": 265,
   "metadata": {},
   "outputs": [],
   "source": [
    "item_model_50_rmse = np.sum(result['test_rmse'])/len(result['test_rmse'])\n",
    "item_model_50_mae = np.sum(result['test_mae'])/len(result['test_mae'])"
   ]
  },
  {
   "cell_type": "markdown",
   "metadata": {},
   "source": [
    "### Part 6.2.2: Performance of Matrix Factorization at 50% sampling size"
   ]
  },
  {
   "cell_type": "code",
   "execution_count": 266,
   "metadata": {},
   "outputs": [
    {
     "name": "stdout",
     "output_type": "stream",
     "text": [
      "Evaluating RMSE, MAE of algorithm NMF on 5 split(s).\n",
      "\n",
      "                  Fold 1  Fold 2  Fold 3  Fold 4  Fold 5  Mean    Std     \n",
      "RMSE (testset)    1.3238  1.4741  1.2383  1.6707  1.3311  1.4076  0.1518  \n",
      "MAE (testset)     1.0182  1.1585  0.9527  1.3294  1.0153  1.0948  0.1353  \n",
      "RMSE (trainset)   1.3299  1.4370  1.2335  1.6646  1.3225  1.3975  0.1483  \n",
      "MAE (trainset)    1.0179  1.1193  0.9403  1.3255  1.0050  1.0816  0.1348  \n",
      "Fit time          1.63    1.65    1.75    1.76    1.67    1.69    0.05    \n",
      "Test time         0.77    0.14    0.15    0.14    0.14    0.27    0.25    \n"
     ]
    }
   ],
   "source": [
    "result = cross_validate(NMF_model, \n",
    "                        data_50, \n",
    "                        measures=['RMSE', 'MAE'], \n",
    "                        cv=5, \n",
    "                        return_train_measures=True,\n",
    "                        verbose=True);"
   ]
  },
  {
   "cell_type": "code",
   "execution_count": 267,
   "metadata": {},
   "outputs": [],
   "source": [
    "NMF_model_50_fit_time = np.sum(result['fit_time'])/len(result['fit_time'])\n",
    "NMF_model_50_test_time = np.sum(result['test_time'])/len(result['test_time'])"
   ]
  },
  {
   "cell_type": "code",
   "execution_count": 268,
   "metadata": {},
   "outputs": [],
   "source": [
    "NMF_model_50_rmse = np.sum(result['test_rmse'])/len(result['test_rmse'])\n",
    "NMF_model_50_mae = np.sum(result['test_mae'])/len(result['test_mae'])"
   ]
  },
  {
   "cell_type": "markdown",
   "metadata": {},
   "source": [
    "### Part 6.3: 75%"
   ]
  },
  {
   "cell_type": "code",
   "execution_count": 269,
   "metadata": {},
   "outputs": [
    {
     "name": "stdout",
     "output_type": "stream",
     "text": [
      "number of distinct participated users (full):  18377\n",
      "number of distinct rated movies (full):  750\n"
     ]
    }
   ],
   "source": [
    "ratings_75 = sample_dateset_by_percentile(ratings, 19000, 750)\n",
    "print(\"number of distinct participated users (full): \", ratings_75['userId'].nunique())\n",
    "print(\"number of distinct rated movies (full): \", ratings_75['movieId'].nunique())"
   ]
  },
  {
   "cell_type": "code",
   "execution_count": 270,
   "metadata": {},
   "outputs": [],
   "source": [
    "reader = Reader()\n",
    "data_75 = Dataset.load_from_df(ratings_75[['userId', \n",
    "                                           'movieId', \n",
    "                                           'rating']], \n",
    "                               reader=reader)"
   ]
  },
  {
   "cell_type": "markdown",
   "metadata": {},
   "source": [
    "### Part 6.3.1: Performance of item-based neighborhood method at 75% sampling size"
   ]
  },
  {
   "cell_type": "code",
   "execution_count": 271,
   "metadata": {},
   "outputs": [
    {
     "name": "stdout",
     "output_type": "stream",
     "text": [
      "Computing the pearson similarity matrix...\n",
      "Done computing similarity matrix.\n",
      "Computing the pearson similarity matrix...\n",
      "Done computing similarity matrix.\n",
      "Computing the pearson similarity matrix...\n",
      "Done computing similarity matrix.\n",
      "Computing the pearson similarity matrix...\n",
      "Done computing similarity matrix.\n",
      "Computing the pearson similarity matrix...\n",
      "Done computing similarity matrix.\n",
      "Evaluating RMSE, MAE of algorithm KNNWithMeans on 5 split(s).\n",
      "\n",
      "                  Fold 1  Fold 2  Fold 3  Fold 4  Fold 5  Mean    Std     \n",
      "RMSE (testset)    0.9264  0.9241  0.9281  0.9231  0.9250  0.9253  0.0018  \n",
      "MAE (testset)     0.6964  0.6988  0.6971  0.6940  0.6968  0.6966  0.0015  \n",
      "RMSE (trainset)   0.5150  0.5177  0.5139  0.5159  0.5161  0.5158  0.0013  \n",
      "MAE (trainset)    0.3796  0.3825  0.3792  0.3807  0.3811  0.3806  0.0012  \n",
      "Fit time          0.60    0.49    0.46    0.48    0.50    0.50    0.05    \n",
      "Test time         2.34    1.45    1.48    1.94    1.43    1.73    0.36    \n"
     ]
    }
   ],
   "source": [
    "result = cross_validate(item_model, \n",
    "                        data_75, \n",
    "                        measures=['RMSE', 'MAE'], \n",
    "                        cv=5, \n",
    "                        return_train_measures=True,\n",
    "                        verbose=True);"
   ]
  },
  {
   "cell_type": "code",
   "execution_count": 272,
   "metadata": {},
   "outputs": [],
   "source": [
    "item_model_75_fit_time = np.sum(result['fit_time'])/len(result['fit_time'])\n",
    "item_model_75_test_time = np.sum(result['test_time'])/len(result['test_time'])"
   ]
  },
  {
   "cell_type": "code",
   "execution_count": 273,
   "metadata": {},
   "outputs": [],
   "source": [
    "item_model_75_rmse = np.sum(result['test_rmse'])/len(result['test_rmse'])\n",
    "item_model_75_mae = np.sum(result['test_mae'])/len(result['test_mae'])"
   ]
  },
  {
   "cell_type": "markdown",
   "metadata": {},
   "source": [
    "### Part 6.3.2: Performance of Matrix Factorization at 75% sampling size"
   ]
  },
  {
   "cell_type": "code",
   "execution_count": 274,
   "metadata": {},
   "outputs": [
    {
     "name": "stdout",
     "output_type": "stream",
     "text": [
      "Evaluating RMSE, MAE of algorithm NMF on 5 split(s).\n",
      "\n",
      "                  Fold 1  Fold 2  Fold 3  Fold 4  Fold 5  Mean    Std     \n",
      "RMSE (testset)    1.2147  1.2451  1.3294  1.2712  1.2098  1.2540  0.0437  \n",
      "MAE (testset)     0.9204  0.9561  1.0071  0.9692  0.9175  0.9541  0.0332  \n",
      "RMSE (trainset)   1.1938  1.2219  1.3231  1.2621  1.1918  1.2385  0.0494  \n",
      "MAE (trainset)    0.9015  0.9328  0.9979  0.9550  0.9004  0.9375  0.0365  \n",
      "Fit time          3.21    2.95    2.89    3.01    3.19    3.05    0.13    \n",
      "Test time         0.27    0.86    0.25    0.27    0.28    0.39    0.24    \n"
     ]
    }
   ],
   "source": [
    "result = cross_validate(NMF_model, \n",
    "                        data_75, \n",
    "                        measures=['RMSE', 'MAE'], \n",
    "                        cv=5, \n",
    "                        return_train_measures=True,\n",
    "                        verbose=True);"
   ]
  },
  {
   "cell_type": "code",
   "execution_count": 275,
   "metadata": {},
   "outputs": [],
   "source": [
    "NMF_model_75_fit_time = np.sum(result['fit_time'])/len(result['fit_time'])\n",
    "NMF_model_75_test_time = np.sum(result['test_time'])/len(result['test_time'])"
   ]
  },
  {
   "cell_type": "code",
   "execution_count": 276,
   "metadata": {},
   "outputs": [],
   "source": [
    "NMF_model_75_rmse = np.sum(result['test_rmse'])/len(result['test_rmse'])\n",
    "NMF_model_75_mae = np.sum(result['test_mae'])/len(result['test_mae'])"
   ]
  },
  {
   "cell_type": "markdown",
   "metadata": {},
   "source": [
    "### Part 6.4: 100%"
   ]
  },
  {
   "cell_type": "code",
   "execution_count": 277,
   "metadata": {},
   "outputs": [
    {
     "name": "stdout",
     "output_type": "stream",
     "text": [
      "number of distinct participated users (full):  24511\n",
      "number of distinct rated movies (full):  1000\n"
     ]
    }
   ],
   "source": [
    "ratings_100 = sample_dateset_by_percentile(ratings, 25000, 1000)\n",
    "print(\"number of distinct participated users (full): \", ratings_100['userId'].nunique())\n",
    "print(\"number of distinct rated movies (full): \", ratings_100['movieId'].nunique())"
   ]
  },
  {
   "cell_type": "code",
   "execution_count": 278,
   "metadata": {},
   "outputs": [],
   "source": [
    "reader = Reader()\n",
    "data_100 = Dataset.load_from_df(ratings_100[['userId', \n",
    "                                             'movieId', \n",
    "                                             'rating']], \n",
    "                                reader=reader)"
   ]
  },
  {
   "cell_type": "markdown",
   "metadata": {},
   "source": [
    "### Part 6.4.1: Performance of item-based neighborhood method at 100% sampling size"
   ]
  },
  {
   "cell_type": "code",
   "execution_count": 279,
   "metadata": {},
   "outputs": [
    {
     "name": "stdout",
     "output_type": "stream",
     "text": [
      "Computing the pearson similarity matrix...\n",
      "Done computing similarity matrix.\n",
      "Computing the pearson similarity matrix...\n",
      "Done computing similarity matrix.\n",
      "Computing the pearson similarity matrix...\n",
      "Done computing similarity matrix.\n",
      "Computing the pearson similarity matrix...\n",
      "Done computing similarity matrix.\n",
      "Computing the pearson similarity matrix...\n",
      "Done computing similarity matrix.\n",
      "Evaluating RMSE, MAE of algorithm KNNWithMeans on 5 split(s).\n",
      "\n",
      "                  Fold 1  Fold 2  Fold 3  Fold 4  Fold 5  Mean    Std     \n",
      "RMSE (testset)    0.9122  0.9176  0.9130  0.9169  0.9178  0.9155  0.0024  \n",
      "MAE (testset)     0.6893  0.6928  0.6914  0.6918  0.6941  0.6919  0.0016  \n",
      "RMSE (trainset)   0.5211  0.5213  0.5231  0.5190  0.5202  0.5209  0.0014  \n",
      "MAE (trainset)    0.3870  0.3868  0.3886  0.3855  0.3863  0.3869  0.0010  \n",
      "Fit time          0.85    0.81    0.76    0.80    0.80    0.80    0.03    \n",
      "Test time         2.43    2.28    2.27    2.27    2.84    2.42    0.22    \n"
     ]
    }
   ],
   "source": [
    "result = cross_validate(item_model, \n",
    "                        data_100, \n",
    "                        measures=['RMSE', 'MAE'], \n",
    "                        cv=5, \n",
    "                        return_train_measures=True,\n",
    "                        verbose=True);"
   ]
  },
  {
   "cell_type": "code",
   "execution_count": 280,
   "metadata": {},
   "outputs": [],
   "source": [
    "item_model_100_fit_time = np.sum(result['fit_time'])/len(result['fit_time'])\n",
    "item_model_100_test_time = np.sum(result['test_time'])/len(result['test_time'])"
   ]
  },
  {
   "cell_type": "code",
   "execution_count": 281,
   "metadata": {},
   "outputs": [],
   "source": [
    "item_model_100_rmse = np.sum(result['test_rmse'])/len(result['test_rmse'])\n",
    "item_model_100_mae = np.sum(result['test_mae'])/len(result['test_mae'])"
   ]
  },
  {
   "cell_type": "markdown",
   "metadata": {},
   "source": [
    "### Part 6.4.2: Performance of Matrix Factorization at 100% sampling size"
   ]
  },
  {
   "cell_type": "code",
   "execution_count": 282,
   "metadata": {},
   "outputs": [
    {
     "name": "stdout",
     "output_type": "stream",
     "text": [
      "Evaluating RMSE, MAE of algorithm NMF on 5 split(s).\n",
      "\n",
      "                  Fold 1  Fold 2  Fold 3  Fold 4  Fold 5  Mean    Std     \n",
      "RMSE (testset)    1.2483  1.8867  1.1630  1.3902  1.3029  1.3982  0.2552  \n",
      "MAE (testset)     0.9481  1.5240  0.8777  1.0560  0.9964  1.0804  0.2293  \n",
      "RMSE (trainset)   1.2322  1.8780  1.1483  1.3662  1.2842  1.3818  0.2580  \n",
      "MAE (trainset)    0.9311  1.5170  0.8614  1.0337  0.9770  1.0640  0.2334  \n",
      "Fit time          4.25    4.34    4.31    4.66    4.41    4.39    0.14    \n",
      "Test time         0.39    0.39    0.39    0.41    1.03    0.52    0.26    \n"
     ]
    }
   ],
   "source": [
    "result = cross_validate(NMF_model, \n",
    "                        data_100, \n",
    "                        measures=['RMSE', 'MAE'], \n",
    "                        cv=5, \n",
    "                        return_train_measures=True,\n",
    "                        verbose=True);"
   ]
  },
  {
   "cell_type": "code",
   "execution_count": 283,
   "metadata": {},
   "outputs": [],
   "source": [
    "NMF_model_100_fit_time = np.sum(result['fit_time'])/len(result['fit_time'])\n",
    "NMF_model_100_test_time = np.sum(result['test_time'])/len(result['test_time'])"
   ]
  },
  {
   "cell_type": "code",
   "execution_count": 284,
   "metadata": {},
   "outputs": [],
   "source": [
    "NMF_model_100_rmse = np.sum(result['test_rmse'])/len(result['test_rmse'])\n",
    "NMF_model_100_mae = np.sum(result['test_mae'])/len(result['test_mae'])"
   ]
  },
  {
   "cell_type": "markdown",
   "metadata": {},
   "source": [
    "### Part 6.5: Does overall accuracy change?"
   ]
  },
  {
   "cell_type": "code",
   "execution_count": 285,
   "metadata": {},
   "outputs": [],
   "source": [
    "sample_size = ['25%', '50%', '75%', '100%']"
   ]
  },
  {
   "cell_type": "code",
   "execution_count": 286,
   "metadata": {},
   "outputs": [],
   "source": [
    "item_model_mae = [item_model_25_mae, item_model_50_mae,\n",
    "                  item_model_75_mae, item_model_100_mae]\n",
    "\n",
    "item_model_rmse = [item_model_25_rmse, item_model_50_rmse,\n",
    "                   item_model_75_rmse, item_model_100_rmse]"
   ]
  },
  {
   "cell_type": "code",
   "execution_count": 287,
   "metadata": {},
   "outputs": [],
   "source": [
    "NMF_model_mae = [NMF_model_25_mae, NMF_model_50_mae,\n",
    "                 NMF_model_75_mae, NMF_model_100_mae]\n",
    "\n",
    "NMF_model_rmse = [NMF_model_25_rmse, NMF_model_50_rmse,\n",
    "                  NMF_model_75_rmse, NMF_model_100_rmse]"
   ]
  },
  {
   "cell_type": "code",
   "execution_count": 288,
   "metadata": {},
   "outputs": [
    {
     "data": {
      "image/png": "[encoded data removed]",
      "text/plain": [
       "<Figure size 432x288 with 1 Axes>"
      ]
     },
     "metadata": {
      "needs_background": "light"
     },
     "output_type": "display_data"
    }
   ],
   "source": [
    "fig, ax = plt.subplots()\n",
    "ax.plot(sample_size, item_model_mae, label='item mae');\n",
    "ax.plot(sample_size, item_model_rmse, label='item rmse');\n",
    "ax.plot(sample_size, NMF_model_mae, label='NMF mae');\n",
    "ax.plot(sample_size, NMF_model_rmse, label='NMF rmse');\n",
    "ax.set_title('RMSE/MAE vs different sample size')\n",
    "ax.set_xlabel('sample size')\n",
    "ax.set_ylabel('RMSE/MAE')\n",
    "ax.legend();"
   ]
  },
  {
   "cell_type": "markdown",
   "metadata": {},
   "source": [
    "- According to the results above, the overall test accuracy of both models change as the sampling size increases.\n",
    "\n",
    "- For item-based neighborhood model, both test RMSE and MAE decrease(monitonically) as the samping size increases.\n",
    "\n",
    "- For NMF model, both test RMSE and MAE reach their minimum at 75% sampling size but slightly increase as the sampling size approaches 100%."
   ]
  },
  {
   "cell_type": "markdown",
   "metadata": {},
   "source": [
    "### Part 6.6: What about the distribution of accuracy over users or items?"
   ]
  },
  {
   "cell_type": "markdown",
   "metadata": {},
   "source": [
    "**Explanation:**\n",
    "- Among the tested sample sizes and error methodologies, there is a relatively uniform distribution of model performance in terms of accuracy, with a momentary convergence at the 75% level. Item based mean absolute error performs the best across each of the tested models, and nonnegative matrix factorization with mean squared error performs the worst across the board. The split between them is relatively constant, again with a short kink improving the error for the NMF models at the 75% range. \n"
   ]
  },
  {
   "cell_type": "markdown",
   "metadata": {},
   "source": [
    "### Part 6.7: How does run-time scale with data size?"
   ]
  },
  {
   "cell_type": "code",
   "execution_count": 289,
   "metadata": {},
   "outputs": [],
   "source": [
    "sample_size = ['25%', '50%', '75%', '100%']"
   ]
  },
  {
   "cell_type": "code",
   "execution_count": 290,
   "metadata": {},
   "outputs": [],
   "source": [
    "item_model_fit_time = [item_model_25_fit_time, \n",
    "                       item_model_50_fit_time,\n",
    "                       item_model_75_fit_time, \n",
    "                       item_model_100_fit_time]\n",
    "\n",
    "item_model_test_time = [item_model_25_test_time, \n",
    "                        item_model_50_test_time,\n",
    "                        item_model_75_test_time, \n",
    "                        item_model_100_test_time]"
   ]
  },
  {
   "cell_type": "code",
   "execution_count": 291,
   "metadata": {},
   "outputs": [],
   "source": [
    "NMF_model_fit_time = [NMF_model_25_fit_time, \n",
    "                      NMF_model_50_fit_time,\n",
    "                      NMF_model_75_fit_time, \n",
    "                      NMF_model_100_fit_time]\n",
    "\n",
    "NMF_model_test_time = [NMF_model_25_test_time, \n",
    "                       NMF_model_50_test_time,\n",
    "                       NMF_model_75_test_time, \n",
    "                       NMF_model_100_test_time]"
   ]
  },
  {
   "cell_type": "code",
   "execution_count": 292,
   "metadata": {},
   "outputs": [
    {
     "data": {
      "image/png": "[encoded data removed]",
      "text/plain": [
       "<Figure size 432x288 with 1 Axes>"
      ]
     },
     "metadata": {
      "needs_background": "light"
     },
     "output_type": "display_data"
    }
   ],
   "source": [
    "fig, ax = plt.subplots()\n",
    "ax.plot(sample_size, item_model_fit_time, label='item fit time');\n",
    "ax.plot(sample_size, item_model_test_time, label='item test time');\n",
    "ax.plot(sample_size, NMF_model_fit_time, label='NMF fit time');\n",
    "ax.plot(sample_size, NMF_model_test_time, label='NMF test time');\n",
    "ax.set_title('Fit/Test time vs different sample size')\n",
    "ax.set_xlabel('sample size')\n",
    "ax.set_ylabel('Fit/Test time')\n",
    "ax.legend();"
   ]
  },
  {
   "cell_type": "markdown",
   "metadata": {},
   "source": [
    "- According to the results above, both fit time and test time of NMF and item-based models increase as the sampling size increases.\n",
    "\n",
    "- Especially for NMF, the increase of fit time of NMF is almost proportional to the increase of sampling size."
   ]
  },
  {
   "cell_type": "markdown",
   "metadata": {},
   "source": [
    "## Part 7: How does your recommendation system meet your hypothetical objectives? Would you feel comfortable putting these solutions into production at a real company? What would be the potential watch outs?"
   ]
  },
  {
   "cell_type": "markdown",
   "metadata": {},
   "source": [
    "**Takeaways:**\n",
    "- Given this narrow-scoped dataset (just users, movies, and ratings), despite its large scale, we are proud of the hypothetical results we saw from our models. The sense-checks we performed in terms of seeing what movies are being recommended for a given user bear out that we are making sensible recommendations of popular movies, which is what we were looking to do from the very start. \n",
    "- This workbook answers affirmatively the first business related questions addressed above about whether this model is viable and suits our company's objectives. We know it is effective, we know it makes good recommendations, and we know it has some issues - all production code does. \n",
    "- We are happy to put the model into production with a few technical caveats (that we add measures for fairness in representation, add post-model logic for flagging movies that have already been watched or are not appropriate for a given user based on age or the like, etc). \n",
    "- As it pertains to our business rules & aims, our current version achieves most of its objectives. We discount the unpopular films (another area for future development), we ensure novelty *within* a recommendation (i.e. won't recommend 'Lion King' twice) but do not ensure novelty at user level by flagging if a user has already seen and rated a film, we also do not have a method of indicating a trending movie and to weight it more heavily in the recommendation - another area for future dev, same story with recommending a partially watched movie - we might want to heavily weight it to remind a user to go back and complete their viewing but we have no way of flagging that with available data. "
   ]
  },
  {
   "cell_type": "markdown",
   "metadata": {},
   "source": [
    "## Part 8: Final remarks"
   ]
  },
  {
   "cell_type": "markdown",
   "metadata": {},
   "source": [
    "**Pros and Cons:**\n",
    "- The pros:\n",
    " 1. It makes broadly appealing and sensible predictions/recommendations. \n",
    " 2. It trains very quickly even on a laptop, so provided a corporate technical infrastructure, will both scale and be amply prepared for further fine-tuning of hyperparameters in that setting.\n",
    " 3. We were able to collect a good deal of metadata about the models and the performance of training on data in this format, wherein we can be confident that we have chosen the strongest model for this dataset, and that our framework and pipeline is flexible for the addition of new features and other ways to boost performance (ensembling etc).\n",
    "- The cons:\n",
    " 1. There is some repetitive code in the demo here for processing different test/train sets and sampling data, but that repetition wouldn't be required in a production environment - this pipeline will transfer with minimal friction to a purposed data architecture.\n",
    " 2. There is concern about the convergence of the models on the training data, we see much higher coverage on unseen user data for the model, because the model is less certain about those users. This means that we are either not including a representative sample of users in the train set for the model, or that the model is simply overfitting to the representative sample. We were willing to stomach a degree of overfitting because the predictions still got made in the same rank just with different frequencies - this ought to self correct as the model is re-trained with more and more user data over time. If not , regularization techniques, ensembling with additional models, or adding new features are all ways we can mitigate this effect if need be. "
   ]
  },
  {
   "cell_type": "code",
   "execution_count": null,
   "metadata": {},
   "outputs": [],
   "source": []
  }
 ],
 "metadata": {
  "kernelspec": {
   "display_name": "Python 3",
   "language": "python",
   "name": "python3"
  },
  "language_info": {
   "codemirror_mode": {
    "name": "ipython",
    "version": 3
   },
   "file_extension": ".py",
   "mimetype": "text/x-python",
   "name": "python",
   "nbconvert_exporter": "python",
   "pygments_lexer": "ipython3",
   "version": "3.7.6"
  }
 },
 "nbformat": 4,
 "nbformat_minor": 4
}
