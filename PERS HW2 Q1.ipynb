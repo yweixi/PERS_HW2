{
 "cells": [
  {
   "cell_type": "markdown",
   "metadata": {},
   "source": [
    "**1. Your objective function**\n",
    "- The objective function of this recommendation system is to increase users' experience/stickiness and ultimately their time spent on our site by making their search for the movies easier as well as by making them consistenly interested in our movie inventory. To achieve that, the recommendation system will provide a list of five movies to the users every time they log in, and the recommendation list will be a combination of movies that are most relevant to the users as well as the movies that are novel to the users.\n",
    "\n",
    "**2. Any metric you wish to optimize in addition to accuracy**\n",
    "- To echo back to the objective of our recommendation system, we will use item-coverage and novelty as the two metrics we optimize in addition to accuracy.\n",
    "\n",
    "**3. The intended user**\n",
    "- As a core piece of the user experience uplift strategy, this recommendation system intends to serve all users coming to our site to search for movies to watch, which means this recommendation system should be able to make recommendations to both new users and existing users. \n",
    "\n",
    "**4. Any business rules you think will be important**\n",
    "- Never recommend items with less than 20% popularity. Our overall strategy will be to \"discard\" the movies that are the least popular, \"maintain\" the movies that are the most popular, and \"boost\" the movies that are in the middle of the popularity spectrum.\n",
    "- Always include the most popular movies in the recommendation to users who are at the bottom 25% in terms of activeness(measured by the number of movies rated). This will serve as a baseline cold-start strategy.\n",
    "- Always recommend movies that the users have started but haven't finished if the relevant user data is accessible.\n",
    "- Always recommend movies that are trending now. For example, recommend romance movies during Valentine's Day.\n",
    "- Always include some level of novelty in the recommendations, meaning movies from different genres.\n",
    "\n",
    "**5. Performance requirements**\n",
    "- The time complexity of rating making should be O(kN), where N denotes the number of movie items."
   ]
  },
  {
   "cell_type": "code",
   "execution_count": null,
   "metadata": {},
   "outputs": [],
   "source": []
  }
 ],
 "metadata": {
  "kernelspec": {
   "display_name": "Python 3",
   "language": "python",
   "name": "python3"
  },
  "language_info": {
   "codemirror_mode": {
    "name": "ipython",
    "version": 3
   },
   "file_extension": ".py",
   "mimetype": "text/x-python",
   "name": "python",
   "nbconvert_exporter": "python",
   "pygments_lexer": "ipython3",
   "version": "3.7.6"
  }
 },
 "nbformat": 4,
 "nbformat_minor": 4
}
